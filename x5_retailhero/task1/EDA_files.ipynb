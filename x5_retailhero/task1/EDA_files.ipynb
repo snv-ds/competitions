{
 "cells": [
  {
   "cell_type": "markdown",
   "metadata": {},
   "source": [
    "# Import & Configuration"
   ]
  },
  {
   "cell_type": "code",
   "execution_count": 1,
   "metadata": {
    "ExecuteTime": {
     "end_time": "2020-02-05T19:44:10.804058Z",
     "start_time": "2020-02-05T19:44:07.036610Z"
    }
   },
   "outputs": [],
   "source": [
    "import pandas as pd\n",
    "import numpy as np\n",
    "import matplotlib.pyplot as plt\n",
    "import seaborn as sns\n",
    "\n",
    "import os\n",
    "import warnings"
   ]
  },
  {
   "cell_type": "code",
   "execution_count": 2,
   "metadata": {
    "ExecuteTime": {
     "end_time": "2020-02-05T19:44:10.839178Z",
     "start_time": "2020-02-05T19:44:10.822528Z"
    }
   },
   "outputs": [],
   "source": [
    "pd.set_option('max_columns', None)\n",
    "warnings.filterwarnings('ignore')\n",
    "%matplotlib inline"
   ]
  },
  {
   "cell_type": "code",
   "execution_count": 3,
   "metadata": {
    "ExecuteTime": {
     "end_time": "2020-02-05T19:44:10.863049Z",
     "start_time": "2020-02-05T19:44:10.850097Z"
    }
   },
   "outputs": [],
   "source": [
    "PATH_TO_DATA = '../data/raw'"
   ]
  },
  {
   "cell_type": "markdown",
   "metadata": {},
   "source": [
    "# Class for EDA"
   ]
  },
  {
   "cell_type": "code",
   "execution_count": 4,
   "metadata": {
    "ExecuteTime": {
     "end_time": "2020-02-05T19:44:10.906828Z",
     "start_time": "2020-02-05T19:44:10.879970Z"
    }
   },
   "outputs": [],
   "source": [
    "class Frame:\n",
    "    def __init__(self, path_to_df, index_col=None, parse_dates=None, target=None):\n",
    "        self._df = pd.read_csv(os.path.join(PATH_TO_DATA, path_to_df), index_col=index_col, parse_dates=parse_dates)\n",
    "        self._target = target\n",
    "        self._cat_features = []\n",
    "        self._num_features = []\n",
    "        self._bin_features = []\n",
    "        self._init_feat_descriptors()\n",
    "        \n",
    "    def _init_feat_descriptors(self):\n",
    "        self._cat_features = list(self.df.select_dtypes(include=['object']).columns)\n",
    "        self._num_features = list(self.df.select_dtypes(exclude=['object']).columns)\n",
    "        self._bin_features = list(self.df.columns[(self.df.nunique(axis=0) == 2)])\n",
    "    \n",
    "    @property\n",
    "    def target(self):\n",
    "        return self._target\n",
    "    \n",
    "    @property\n",
    "    def df(self):\n",
    "        return self._df\n",
    "    \n",
    "    @property\n",
    "    def cat_features(self):\n",
    "        return self._cat_features\n",
    "    \n",
    "    @property\n",
    "    def num_features(self):\n",
    "        return self._num_features\n",
    "    \n",
    "    @property\n",
    "    def bin_features(self):\n",
    "        return self._bin_features\n",
    "    \n",
    "    def count_NaN(self, display=True):\n",
    "        if display:\n",
    "            print(f'There are {self.df.isnull().any().sum()} columns in dataset ' + \n",
    "                  f'with missing values from {self.df.shape[1]}.')\n",
    "            print(\"Number of NaNs for each object\")\n",
    "            print(self.df.isna().sum(axis=1), end=\"\\n------------------------\\n\")\n",
    "            print(\"Number of NaNs for each column\")\n",
    "            print(self.df.isna().sum(axis=0), end=\"\\n------------------------\\n\")\n",
    "        else:\n",
    "            return self.df.isna().sum(axis=0)\n",
    "                \n",
    "    def count_unique(self, display=True):\n",
    "        if display:\n",
    "            for col in self.df.columns:\n",
    "                qty_unq = len(self.df[col].unique())\n",
    "                print(f\"{col} has {qty_unq} unique values\")\n",
    "        else:\n",
    "            return self.df.nunique(dropna = False)\n",
    "    \n",
    "    def info(self):\n",
    "        return self.df.info()\n",
    "    \n",
    "    def describe(self, include=None):\n",
    "        return self.df.describe(include=include)\n",
    "    \n",
    "    def shrink(self):\n",
    "        for col in self.num_features:\n",
    "            if str(self.df[col].dtype).startswith('float'):\n",
    "                self.df[col] = pd.to_numeric(self.df[col], downcast='float', errors='ignore')\n",
    "            elif str(self.df[col].dtype).startswith('date'):\n",
    "                continue\n",
    "            else:\n",
    "                self.df[col] = pd.to_numeric(self.df[col], downcast='integer', errors='ignore')\n",
    "                \n",
    "    "
   ]
  },
  {
   "cell_type": "code",
   "execution_count": 5,
   "metadata": {
    "ExecuteTime": {
     "end_time": "2020-02-05T19:44:10.943636Z",
     "start_time": "2020-02-05T19:44:10.924453Z"
    }
   },
   "outputs": [],
   "source": [
    "class EDA:\n",
    "    def __init__(self, frame):\n",
    "        self._frame = frame\n",
    "        \n",
    "    @property\n",
    "    def frame(self):\n",
    "        return self._frame\n",
    "    \n",
    "    def numeric_plot(self, interactive=False, features=None):\n",
    "            if features is None:\n",
    "                features = self.frame.num_features\n",
    "            elif isinstance(features, list):\n",
    "                features = features\n",
    "            else:\n",
    "                return\n",
    "            if not interactive:\n",
    "                _, _ = plt.subplots(figsize=(16, 16))\n",
    "                i = 1\n",
    "                for feat in features:\n",
    "                    rows = len(self.frame.num_features)\n",
    "                    plt.subplot(rows, 2, i)\n",
    "                    sns.distplot(self.frame.df[feat], bins=50)\n",
    "                    plt.title(f'Distribution of {feat}');\n",
    "                    plt.subplot(rows, 2, i + 1)\n",
    "                    sns.violinplot(self.frame.df[feat])\n",
    "                    plt.title(f'Violin of {feat}');\n",
    "                    i += 2\n",
    "                    print(self.frame.df[feat].value_counts().sort_values(ascending=False).head(10), end='\\n\\n')            \n",
    "                \n",
    "    def cat_plot(self, interactive=False, features=None):\n",
    "        if features is None:\n",
    "            features = self.frame.cat_features\n",
    "        elif isinstance(features, list):\n",
    "            features = features\n",
    "        else:\n",
    "            return\n",
    "        if not interactive:\n",
    "            _, _ = plt.subplots(figsize=(16, 16))\n",
    "            for i, feat in enumerate(features):\n",
    "                plt.subplot(len(features), 1, i + 1)\n",
    "                g = sns.countplot(data=self.frame.df, x=feat)\n",
    "                g.set_xticklabels(g.get_xticklabels(),rotation=90)\n",
    "                plt.title(f'Distribution of {feat}');\n",
    "                plt.subplots_adjust(wspace = 0.2, hspace = 1.3,top = 0.9)\n",
    "                print(self.frame.df[feat].value_counts().sort_values(ascending=False).head(10), end='\\n\\n')"
   ]
  },
  {
   "cell_type": "markdown",
   "metadata": {
    "heading_collapsed": true
   },
   "source": [
    "# Clients lookup"
   ]
  },
  {
   "cell_type": "markdown",
   "metadata": {
    "heading_collapsed": true,
    "hidden": true
   },
   "source": [
    "## First inspection"
   ]
  },
  {
   "cell_type": "code",
   "execution_count": 6,
   "metadata": {
    "ExecuteTime": {
     "end_time": "2020-02-05T19:44:14.386890Z",
     "start_time": "2020-02-05T19:44:13.152874Z"
    },
    "hidden": true
   },
   "outputs": [],
   "source": [
    "clients = Frame('clients.csv', index_col='client_id')"
   ]
  },
  {
   "cell_type": "code",
   "execution_count": 7,
   "metadata": {
    "ExecuteTime": {
     "end_time": "2020-02-05T19:44:15.265883Z",
     "start_time": "2020-02-05T19:44:14.397714Z"
    },
    "hidden": true
   },
   "outputs": [
    {
     "data": {
      "text/html": [
       "<div>\n",
       "<style scoped>\n",
       "    .dataframe tbody tr th:only-of-type {\n",
       "        vertical-align: middle;\n",
       "    }\n",
       "\n",
       "    .dataframe tbody tr th {\n",
       "        vertical-align: top;\n",
       "    }\n",
       "\n",
       "    .dataframe thead th {\n",
       "        text-align: right;\n",
       "    }\n",
       "</style>\n",
       "<table border=\"1\" class=\"dataframe\">\n",
       "  <thead>\n",
       "    <tr style=\"text-align: right;\">\n",
       "      <th></th>\n",
       "      <th>first_issue_date</th>\n",
       "      <th>first_redeem_date</th>\n",
       "      <th>age</th>\n",
       "      <th>gender</th>\n",
       "    </tr>\n",
       "  </thead>\n",
       "  <tbody>\n",
       "    <tr>\n",
       "      <td>count</td>\n",
       "      <td>400162</td>\n",
       "      <td>364693</td>\n",
       "      <td>400162.000000</td>\n",
       "      <td>400162</td>\n",
       "    </tr>\n",
       "    <tr>\n",
       "      <td>unique</td>\n",
       "      <td>396725</td>\n",
       "      <td>362527</td>\n",
       "      <td>NaN</td>\n",
       "      <td>3</td>\n",
       "    </tr>\n",
       "    <tr>\n",
       "      <td>top</td>\n",
       "      <td>2017-07-10 17:19:55</td>\n",
       "      <td>2019-03-22 17:10:11</td>\n",
       "      <td>NaN</td>\n",
       "      <td>U</td>\n",
       "    </tr>\n",
       "    <tr>\n",
       "      <td>freq</td>\n",
       "      <td>3</td>\n",
       "      <td>3</td>\n",
       "      <td>NaN</td>\n",
       "      <td>185706</td>\n",
       "    </tr>\n",
       "    <tr>\n",
       "      <td>mean</td>\n",
       "      <td>NaN</td>\n",
       "      <td>NaN</td>\n",
       "      <td>46.488112</td>\n",
       "      <td>NaN</td>\n",
       "    </tr>\n",
       "    <tr>\n",
       "      <td>std</td>\n",
       "      <td>NaN</td>\n",
       "      <td>NaN</td>\n",
       "      <td>43.871218</td>\n",
       "      <td>NaN</td>\n",
       "    </tr>\n",
       "    <tr>\n",
       "      <td>min</td>\n",
       "      <td>NaN</td>\n",
       "      <td>NaN</td>\n",
       "      <td>-7491.000000</td>\n",
       "      <td>NaN</td>\n",
       "    </tr>\n",
       "    <tr>\n",
       "      <td>25%</td>\n",
       "      <td>NaN</td>\n",
       "      <td>NaN</td>\n",
       "      <td>34.000000</td>\n",
       "      <td>NaN</td>\n",
       "    </tr>\n",
       "    <tr>\n",
       "      <td>50%</td>\n",
       "      <td>NaN</td>\n",
       "      <td>NaN</td>\n",
       "      <td>45.000000</td>\n",
       "      <td>NaN</td>\n",
       "    </tr>\n",
       "    <tr>\n",
       "      <td>75%</td>\n",
       "      <td>NaN</td>\n",
       "      <td>NaN</td>\n",
       "      <td>59.000000</td>\n",
       "      <td>NaN</td>\n",
       "    </tr>\n",
       "    <tr>\n",
       "      <td>max</td>\n",
       "      <td>NaN</td>\n",
       "      <td>NaN</td>\n",
       "      <td>1901.000000</td>\n",
       "      <td>NaN</td>\n",
       "    </tr>\n",
       "  </tbody>\n",
       "</table>\n",
       "</div>"
      ],
      "text/plain": [
       "           first_issue_date    first_redeem_date            age  gender\n",
       "count                400162               364693  400162.000000  400162\n",
       "unique               396725               362527            NaN       3\n",
       "top     2017-07-10 17:19:55  2019-03-22 17:10:11            NaN       U\n",
       "freq                      3                    3            NaN  185706\n",
       "mean                    NaN                  NaN      46.488112     NaN\n",
       "std                     NaN                  NaN      43.871218     NaN\n",
       "min                     NaN                  NaN   -7491.000000     NaN\n",
       "25%                     NaN                  NaN      34.000000     NaN\n",
       "50%                     NaN                  NaN      45.000000     NaN\n",
       "75%                     NaN                  NaN      59.000000     NaN\n",
       "max                     NaN                  NaN    1901.000000     NaN"
      ]
     },
     "execution_count": 7,
     "metadata": {},
     "output_type": "execute_result"
    }
   ],
   "source": [
    "clients.describe(include='all')"
   ]
  },
  {
   "cell_type": "code",
   "execution_count": 8,
   "metadata": {
    "ExecuteTime": {
     "end_time": "2020-02-05T19:44:15.288344Z",
     "start_time": "2020-02-05T19:44:15.281190Z"
    },
    "hidden": true
   },
   "outputs": [
    {
     "data": {
      "text/plain": [
       "(['first_issue_date', 'first_redeem_date', 'gender'], ['age'])"
      ]
     },
     "execution_count": 8,
     "metadata": {},
     "output_type": "execute_result"
    }
   ],
   "source": [
    "clients.cat_features, clients.num_features"
   ]
  },
  {
   "cell_type": "code",
   "execution_count": 9,
   "metadata": {
    "ExecuteTime": {
     "end_time": "2020-02-05T19:44:15.636868Z",
     "start_time": "2020-02-05T19:44:15.297355Z"
    },
    "hidden": true
   },
   "outputs": [
    {
     "name": "stdout",
     "output_type": "stream",
     "text": [
      "gender                    3\n",
      "age                     290\n",
      "first_redeem_date    362528\n",
      "first_issue_date     396725\n",
      "dtype: int64\n",
      "--------------------------------\n",
      "first_issue_date         0\n",
      "age                      0\n",
      "gender                   0\n",
      "first_redeem_date    35469\n",
      "dtype: int64\n"
     ]
    }
   ],
   "source": [
    "feats_nan = clients.count_NaN(display=False)\n",
    "feats_count = clients.count_unique(display=False)\n",
    "print(feats_count.sort_values()[:10])\n",
    "print(\"--------------------------------\")\n",
    "print(feats_nan.sort_values()[:10])"
   ]
  },
  {
   "cell_type": "code",
   "execution_count": 10,
   "metadata": {
    "ExecuteTime": {
     "end_time": "2020-02-05T19:44:25.069075Z",
     "start_time": "2020-02-05T19:44:20.677777Z"
    },
    "hidden": true
   },
   "outputs": [
    {
     "name": "stdout",
     "output_type": "stream",
     "text": [
      "U    185706\n",
      "F    147649\n",
      "M     66807\n",
      "Name: gender, dtype: int64\n",
      "\n",
      "33    9437\n",
      "36    9394\n",
      "32    9354\n",
      "31    9286\n",
      "35    9152\n",
      "34    9119\n",
      "37    8653\n",
      "40    8648\n",
      "38    8633\n",
      "59    8460\n",
      "Name: age, dtype: int64\n",
      "\n"
     ]
    },
    {
     "data": {
      "image/png": "[encoded data removed]",
      "text/plain": [
       "<Figure size 1152x1152 with 1 Axes>"
      ]
     },
     "metadata": {
      "needs_background": "light"
     },
     "output_type": "display_data"
    },
    {
     "data": {
      "image/png": "[encoded data removed]",
      "text/plain": [
       "<Figure size 1152x1152 with 2 Axes>"
      ]
     },
     "metadata": {
      "needs_background": "light"
     },
     "output_type": "display_data"
    }
   ],
   "source": [
    "clients_EDA = EDA(clients)\n",
    "clients_EDA.cat_plot(features=['gender'])\n",
    "clients_EDA.numeric_plot()"
   ]
  },
  {
   "cell_type": "code",
   "execution_count": 11,
   "metadata": {
    "ExecuteTime": {
     "end_time": "2020-02-05T19:44:31.019802Z",
     "start_time": "2020-02-05T19:44:30.995421Z"
    },
    "hidden": true
   },
   "outputs": [
    {
     "data": {
      "text/plain": [
       "count    400162.000000\n",
       "mean         46.488112\n",
       "std          43.871218\n",
       "min       -7491.000000\n",
       "25%          34.000000\n",
       "50%          45.000000\n",
       "75%          59.000000\n",
       "max        1901.000000\n",
       "Name: age, dtype: float64"
      ]
     },
     "execution_count": 11,
     "metadata": {},
     "output_type": "execute_result"
    }
   ],
   "source": [
    "clients.df['age'].describe()"
   ]
  },
  {
   "cell_type": "code",
   "execution_count": 13,
   "metadata": {
    "ExecuteTime": {
     "end_time": "2020-02-05T15:34:42.024267Z",
     "start_time": "2020-02-05T15:34:41.890394Z"
    },
    "hidden": true
   },
   "outputs": [],
   "source": [
    "clients.df.loc[clients.df.query('age <= 14 or age > 90').index] = np.random.randint(34.0, 59.0)"
   ]
  },
  {
   "cell_type": "markdown",
   "metadata": {
    "heading_collapsed": true,
    "hidden": true
   },
   "source": [
    "## Work with numeric features"
   ]
  },
  {
   "cell_type": "code",
   "execution_count": 99,
   "metadata": {
    "ExecuteTime": {
     "end_time": "2020-01-21T14:49:11.353546Z",
     "start_time": "2020-01-21T14:49:11.341471Z"
    },
    "hidden": true
   },
   "outputs": [
    {
     "data": {
      "text/plain": [
       "(138, 1139, 400162)"
      ]
     },
     "execution_count": 99,
     "metadata": {},
     "output_type": "execute_result"
    }
   ],
   "source": [
    "clients[clients['age'] <= 0].shape[0], clients[clients['age'] > 90].shape[0], clients.shape[0]"
   ]
  },
  {
   "cell_type": "code",
   "execution_count": 107,
   "metadata": {
    "ExecuteTime": {
     "end_time": "2020-01-21T14:54:49.616983Z",
     "start_time": "2020-01-21T14:54:49.613469Z"
    },
    "hidden": true
   },
   "outputs": [],
   "source": [
    "# age has invalid values below 0 and above 90"
   ]
  },
  {
   "cell_type": "markdown",
   "metadata": {
    "ExecuteTime": {
     "end_time": "2020-01-21T20:04:20.630228Z",
     "start_time": "2020-01-21T20:04:20.623695Z"
    },
    "heading_collapsed": true
   },
   "source": [
    "# Products lookup"
   ]
  },
  {
   "cell_type": "markdown",
   "metadata": {
    "heading_collapsed": true,
    "hidden": true
   },
   "source": [
    "## First inspection"
   ]
  },
  {
   "cell_type": "code",
   "execution_count": 12,
   "metadata": {
    "ExecuteTime": {
     "end_time": "2020-02-05T19:44:45.382367Z",
     "start_time": "2020-02-05T19:44:45.210477Z"
    },
    "hidden": true
   },
   "outputs": [
    {
     "name": "stdout",
     "output_type": "stream",
     "text": [
      "['level_1', 'level_2', 'level_3', 'level_4', 'brand_id', 'vendor_id'] ['segment_id', 'netto', 'is_own_trademark', 'is_alcohol'] ['is_own_trademark', 'is_alcohol']\n"
     ]
    }
   ],
   "source": [
    "products = Frame('products.csv', index_col='product_id')\n",
    "\n",
    "print(products.cat_features, products.num_features, products.bin_features)"
   ]
  },
  {
   "cell_type": "code",
   "execution_count": 13,
   "metadata": {
    "ExecuteTime": {
     "end_time": "2020-02-05T19:44:51.496636Z",
     "start_time": "2020-02-05T19:44:51.426544Z"
    },
    "hidden": true
   },
   "outputs": [
    {
     "name": "stdout",
     "output_type": "stream",
     "text": [
      "There are 8 columns in dataset with missing values from 10.\n",
      "Number of NaNs for each object\n",
      "product_id\n",
      "0003020d3c    0\n",
      "0003870676    0\n",
      "0003ceaf69    0\n",
      "000701e093    0\n",
      "0007149564    0\n",
      "             ..\n",
      "fffac3a287    0\n",
      "fffd2946cf    0\n",
      "fffd7fb409    0\n",
      "fffd963a2c    0\n",
      "fffd992186    0\n",
      "Length: 43038, dtype: int64\n",
      "------------------------\n",
      "Number of NaNs for each column\n",
      "level_1                3\n",
      "level_2                3\n",
      "level_3                3\n",
      "level_4                3\n",
      "segment_id          1572\n",
      "brand_id            5200\n",
      "vendor_id             34\n",
      "netto                  3\n",
      "is_own_trademark       0\n",
      "is_alcohol             0\n",
      "dtype: int64\n",
      "------------------------\n",
      "------------------------\n",
      "level_1 has 4 unique values\n",
      "level_2 has 43 unique values\n",
      "level_3 has 202 unique values\n",
      "level_4 has 791 unique values\n",
      "segment_id has 117 unique values\n",
      "brand_id has 4297 unique values\n",
      "vendor_id has 3194 unique values\n",
      "netto has 781 unique values\n",
      "is_own_trademark has 2 unique values\n",
      "is_alcohol has 2 unique values\n"
     ]
    }
   ],
   "source": [
    "products.count_NaN()\n",
    "print(\"------------------------\")\n",
    "products.count_unique()"
   ]
  },
  {
   "cell_type": "code",
   "execution_count": 14,
   "metadata": {
    "ExecuteTime": {
     "end_time": "2020-02-05T19:45:23.190309Z",
     "start_time": "2020-02-05T19:45:18.624653Z"
    },
    "hidden": true
   },
   "outputs": [
    {
     "name": "stdout",
     "output_type": "stream",
     "text": [
      "e344ab2e71    22183\n",
      "c3d3a8e8c6    16573\n",
      "ec62ce61e3     4279\n",
      "Name: level_1, dtype: int64\n",
      "\n",
      "52f13dac0c    8891\n",
      "ad2b2e17d2    6631\n",
      "f2333c90fb    3310\n",
      "ed2ad1797c    3257\n",
      "703f4b6eb0    2396\n",
      "749c619457    2393\n",
      "14d373dff5    2377\n",
      "c2a3ea8d5e    2209\n",
      "1d2939ba1d    1717\n",
      "f93982269d    1343\n",
      "Name: level_2, dtype: int64\n",
      "\n",
      "ca69ed9de2    3737\n",
      "419bc5b424    2729\n",
      "0f84eb7480    2571\n",
      "38816369ce    2324\n",
      "6b55683dad    1862\n",
      "d3cfe81323    1437\n",
      "0bcfc6519b    1306\n",
      "a6b0dd76e0    1033\n",
      "e33cc0b2a4    1001\n",
      "eda7b2976b     889\n",
      "Name: level_3, dtype: int64\n",
      "\n",
      "105.0    5360\n",
      "150.0    2745\n",
      "271.0    1690\n",
      "259.0    1523\n",
      "85.0     1291\n",
      "148.0    1073\n",
      "1.0       912\n",
      "157.0     876\n",
      "263.0     873\n",
      "321.0     848\n",
      "Name: segment_id, dtype: int64\n",
      "\n"
     ]
    },
    {
     "data": {
      "image/png": "[encoded data removed]",
      "text/plain": [
       "<Figure size 1152x1152 with 4 Axes>"
      ]
     },
     "metadata": {
      "needs_background": "light"
     },
     "output_type": "display_data"
    }
   ],
   "source": [
    "products_eda = EDA(products)\n",
    "products_eda.cat_plot(features=['level_1', 'level_2', 'level_3', 'segment_id'])"
   ]
  },
  {
   "cell_type": "code",
   "execution_count": 83,
   "metadata": {
    "ExecuteTime": {
     "end_time": "2020-02-05T15:19:50.840990Z",
     "start_time": "2020-02-05T15:19:50.002553Z"
    },
    "hidden": true
   },
   "outputs": [
    {
     "name": "stdout",
     "output_type": "stream",
     "text": [
      "0.50    4256\n",
      "1.00    2953\n",
      "0.40    2491\n",
      "0.20    2410\n",
      "0.30    2354\n",
      "0.10    1988\n",
      "0.25    1835\n",
      "0.35    1330\n",
      "0.45    1256\n",
      "0.15    1074\n",
      "Name: netto, dtype: int64\n",
      "\n"
     ]
    },
    {
     "data": {
      "image/png": "[encoded data removed]",
      "text/plain": [
       "<Figure size 1152x1152 with 2 Axes>"
      ]
     },
     "metadata": {
      "needs_background": "light"
     },
     "output_type": "display_data"
    }
   ],
   "source": [
    "products_eda.numeric_plot(features=['netto'])"
   ]
  },
  {
   "cell_type": "code",
   "execution_count": null,
   "metadata": {
    "hidden": true
   },
   "outputs": [],
   "source": []
  },
  {
   "cell_type": "markdown",
   "metadata": {
    "heading_collapsed": true,
    "hidden": true
   },
   "source": [
    "## Numeric feature"
   ]
  },
  {
   "cell_type": "code",
   "execution_count": 269,
   "metadata": {
    "ExecuteTime": {
     "end_time": "2020-01-21T20:54:51.957555Z",
     "start_time": "2020-01-21T20:54:51.943882Z"
    },
    "hidden": true
   },
   "outputs": [
    {
     "data": {
      "text/plain": [
       "(105, 42933)"
      ]
     },
     "execution_count": 269,
     "metadata": {},
     "output_type": "execute_result"
    }
   ],
   "source": [
    "products[products['netto'] > 4].shape[0], products[products['netto'] <= 4].shape[0]"
   ]
  },
  {
   "cell_type": "code",
   "execution_count": 264,
   "metadata": {
    "ExecuteTime": {
     "end_time": "2020-01-21T20:53:55.891150Z",
     "start_time": "2020-01-21T20:53:55.658563Z"
    },
    "hidden": true
   },
   "outputs": [
    {
     "data": {
      "image/png": "[encoded data removed]",
      "text/plain": [
       "<Figure size 432x288 with 1 Axes>"
      ]
     },
     "metadata": {
      "needs_background": "light"
     },
     "output_type": "display_data"
    }
   ],
   "source": [
    "products[products['netto'] <= 5]['netto'].hist(bins=50);"
   ]
  },
  {
   "cell_type": "code",
   "execution_count": 267,
   "metadata": {
    "ExecuteTime": {
     "end_time": "2020-01-21T20:54:12.258844Z",
     "start_time": "2020-01-21T20:54:12.055241Z"
    },
    "hidden": true
   },
   "outputs": [
    {
     "data": {
      "image/png": "[encoded data removed]",
      "text/plain": [
       "<Figure size 432x288 with 1 Axes>"
      ]
     },
     "metadata": {
      "needs_background": "light"
     },
     "output_type": "display_data"
    }
   ],
   "source": [
    "products[products['netto'] > 10]['netto'].hist(bins=30);"
   ]
  },
  {
   "cell_type": "code",
   "execution_count": 270,
   "metadata": {
    "ExecuteTime": {
     "end_time": "2020-01-21T20:55:40.579001Z",
     "start_time": "2020-01-21T20:55:40.069952Z"
    },
    "hidden": true
   },
   "outputs": [
    {
     "data": {
      "image/png": "[encoded data removed]",
      "text/plain": [
       "<Figure size 432x288 with 1 Axes>"
      ]
     },
     "metadata": {
      "needs_background": "light"
     },
     "output_type": "display_data"
    }
   ],
   "source": [
    "sns.violinplot(products[products['netto'] <= 4]['netto']);"
   ]
  },
  {
   "cell_type": "markdown",
   "metadata": {
    "heading_collapsed": true,
    "hidden": true
   },
   "source": [
    "## Level features"
   ]
  },
  {
   "cell_type": "code",
   "execution_count": 271,
   "metadata": {
    "ExecuteTime": {
     "end_time": "2020-01-21T20:57:19.954668Z",
     "start_time": "2020-01-21T20:57:19.950210Z"
    },
    "hidden": true
   },
   "outputs": [],
   "source": [
    "level_feat = []\n",
    "for col in products.columns:\n",
    "    if col.startswith('level'):\n",
    "        level_feat.append(col)"
   ]
  },
  {
   "cell_type": "code",
   "execution_count": 280,
   "metadata": {
    "ExecuteTime": {
     "end_time": "2020-01-21T21:02:01.386302Z",
     "start_time": "2020-01-21T21:02:01.377229Z"
    },
    "hidden": true
   },
   "outputs": [
    {
     "data": {
      "text/plain": [
       "Index(['04d86b4b50', '48cc0e256d', '6a3d708544'], dtype='object', name='product_id')"
      ]
     },
     "execution_count": 280,
     "metadata": {},
     "output_type": "execute_result"
    }
   ],
   "source": [
    "bad_products = products[products['level_1'].isna()].index\n",
    "bad_products"
   ]
  },
  {
   "cell_type": "code",
   "execution_count": 281,
   "metadata": {
    "ExecuteTime": {
     "end_time": "2020-01-21T21:02:21.835684Z",
     "start_time": "2020-01-21T21:02:21.820873Z"
    },
    "hidden": true
   },
   "outputs": [],
   "source": [
    "products.drop(bad_products, inplace=True)"
   ]
  },
  {
   "cell_type": "code",
   "execution_count": 292,
   "metadata": {
    "ExecuteTime": {
     "end_time": "2020-01-21T21:10:03.797221Z",
     "start_time": "2020-01-21T21:10:03.652981Z"
    },
    "hidden": true
   },
   "outputs": [
    {
     "data": {
      "image/png": "[encoded data removed]",
      "text/plain": [
       "<Figure size 432x288 with 1 Axes>"
      ]
     },
     "metadata": {
      "needs_background": "light"
     },
     "output_type": "display_data"
    }
   ],
   "source": [
    "ax = products[level_feat[0]].value_counts().plot(kind='bar', title='Counts of products by level_1');\n",
    "ax.set_xlabel(\"level_1 types\");\n",
    "ax.set_ylabel(\"Counts\");"
   ]
  },
  {
   "cell_type": "code",
   "execution_count": 293,
   "metadata": {
    "ExecuteTime": {
     "end_time": "2020-01-21T21:11:55.306646Z",
     "start_time": "2020-01-21T21:11:54.948087Z"
    },
    "hidden": true
   },
   "outputs": [
    {
     "data": {
      "image/png": "[encoded data removed]",
      "text/plain": [
       "<Figure size 432x288 with 1 Axes>"
      ]
     },
     "metadata": {
      "needs_background": "light"
     },
     "output_type": "display_data"
    }
   ],
   "source": [
    "ax = products[level_feat[1]].value_counts().plot(kind='bar', title='Counts of products by level_2');\n",
    "ax.set_xlabel(\"level_2 types\");\n",
    "ax.set_ylabel(\"Counts\");"
   ]
  },
  {
   "cell_type": "markdown",
   "metadata": {
    "ExecuteTime": {
     "end_time": "2020-01-21T21:12:55.403651Z",
     "start_time": "2020-01-21T21:12:55.035225Z"
    },
    "heading_collapsed": true,
    "hidden": true
   },
   "source": [
    "## ID Features"
   ]
  },
  {
   "cell_type": "code",
   "execution_count": 298,
   "metadata": {
    "ExecuteTime": {
     "end_time": "2020-01-21T21:19:02.394091Z",
     "start_time": "2020-01-21T21:19:02.389325Z"
    },
    "hidden": true
   },
   "outputs": [],
   "source": [
    "id_feat = []\n",
    "for col in products.columns:\n",
    "    if col.endswith('id'):\n",
    "        id_feat.append(col)"
   ]
  },
  {
   "cell_type": "code",
   "execution_count": 301,
   "metadata": {
    "ExecuteTime": {
     "end_time": "2020-01-21T21:21:31.313081Z",
     "start_time": "2020-01-21T21:21:31.291064Z"
    },
    "hidden": true
   },
   "outputs": [],
   "source": [
    "for feat in id_feat:\n",
    "    products[feat].fillna(\"NA_ID\", inplace=True)"
   ]
  },
  {
   "cell_type": "code",
   "execution_count": 319,
   "metadata": {
    "ExecuteTime": {
     "end_time": "2020-01-21T21:28:32.810800Z",
     "start_time": "2020-01-21T21:28:32.797060Z"
    },
    "hidden": true
   },
   "outputs": [
    {
     "name": "stdout",
     "output_type": "stream",
     "text": [
      "TOP10 distribution for segment_id\n"
     ]
    },
    {
     "data": {
      "text/plain": [
       "105.0    5360\n",
       "150.0    2745\n",
       "271.0    1690\n",
       "NA_ID    1569\n",
       "259.0    1523\n",
       "85.0     1291\n",
       "148.0    1073\n",
       "1.0       912\n",
       "157.0     876\n",
       "263.0     873\n",
       "Name: segment_id, dtype: int64"
      ]
     },
     "execution_count": 319,
     "metadata": {},
     "output_type": "execute_result"
    }
   ],
   "source": [
    "print(f\"TOP10 distribution for {id_feat[0]}\")\n",
    "products[id_feat[0]].value_counts()[:10]"
   ]
  },
  {
   "cell_type": "markdown",
   "metadata": {
    "heading_collapsed": true
   },
   "source": [
    "# Purchases lookup"
   ]
  },
  {
   "cell_type": "markdown",
   "metadata": {
    "hidden": true
   },
   "source": [
    "## First inspection"
   ]
  },
  {
   "cell_type": "code",
   "execution_count": 15,
   "metadata": {
    "ExecuteTime": {
     "end_time": "2020-02-05T19:47:47.551423Z",
     "start_time": "2020-02-05T19:47:47.366997Z"
    },
    "hidden": true
   },
   "outputs": [],
   "source": [
    "target = pd.read_csv(os.path.join(PATH_TO_DATA, 'uplift_train.csv'), index_col='client_id')"
   ]
  },
  {
   "cell_type": "code",
   "execution_count": 16,
   "metadata": {
    "ExecuteTime": {
     "end_time": "2020-02-05T19:57:07.231104Z",
     "start_time": "2020-02-05T19:47:48.077839Z"
    },
    "hidden": true
   },
   "outputs": [],
   "source": [
    "purchases = Frame(('purchases.csv'), parse_dates=['transaction_datetime'], index_col=0)"
   ]
  },
  {
   "cell_type": "code",
   "execution_count": 17,
   "metadata": {
    "ExecuteTime": {
     "end_time": "2020-02-05T19:57:15.616613Z",
     "start_time": "2020-02-05T19:57:07.298591Z"
    },
    "hidden": true
   },
   "outputs": [],
   "source": [
    "purchases.shrink()"
   ]
  },
  {
   "cell_type": "code",
   "execution_count": 18,
   "metadata": {
    "ExecuteTime": {
     "end_time": "2020-02-05T19:57:16.737903Z",
     "start_time": "2020-02-05T19:57:15.632914Z"
    },
    "hidden": true
   },
   "outputs": [
    {
     "name": "stdout",
     "output_type": "stream",
     "text": [
      "<class 'pandas.core.frame.DataFrame'>\n",
      "Int64Index: 45786568 entries, 0 to 45786567\n",
      "Data columns (total 13 columns):\n",
      "client_id                  object\n",
      "transaction_id             object\n",
      "transaction_datetime       datetime64[ns]\n",
      "regular_points_received    float32\n",
      "express_points_received    float32\n",
      "regular_points_spent       float32\n",
      "express_points_spent       float32\n",
      "purchase_sum               float32\n",
      "store_id                   object\n",
      "product_id                 object\n",
      "product_quantity           float32\n",
      "trn_sum_from_iss           float32\n",
      "trn_sum_from_red           float32\n",
      "dtypes: datetime64[ns](1), float32(8), object(4)\n",
      "memory usage: 3.4+ GB\n"
     ]
    }
   ],
   "source": [
    "purchases.info()"
   ]
  },
  {
   "cell_type": "code",
   "execution_count": 19,
   "metadata": {
    "ExecuteTime": {
     "end_time": "2020-02-05T19:57:16.805294Z",
     "start_time": "2020-02-05T19:57:16.751493Z"
    },
    "hidden": true
   },
   "outputs": [
    {
     "data": {
      "text/html": [
       "<div>\n",
       "<style scoped>\n",
       "    .dataframe tbody tr th:only-of-type {\n",
       "        vertical-align: middle;\n",
       "    }\n",
       "\n",
       "    .dataframe tbody tr th {\n",
       "        vertical-align: top;\n",
       "    }\n",
       "\n",
       "    .dataframe thead th {\n",
       "        text-align: right;\n",
       "    }\n",
       "</style>\n",
       "<table border=\"1\" class=\"dataframe\">\n",
       "  <thead>\n",
       "    <tr style=\"text-align: right;\">\n",
       "      <th></th>\n",
       "      <th>client_id</th>\n",
       "      <th>transaction_id</th>\n",
       "      <th>transaction_datetime</th>\n",
       "      <th>regular_points_received</th>\n",
       "      <th>express_points_received</th>\n",
       "      <th>regular_points_spent</th>\n",
       "      <th>express_points_spent</th>\n",
       "      <th>purchase_sum</th>\n",
       "      <th>store_id</th>\n",
       "      <th>product_id</th>\n",
       "      <th>product_quantity</th>\n",
       "      <th>trn_sum_from_iss</th>\n",
       "      <th>trn_sum_from_red</th>\n",
       "    </tr>\n",
       "  </thead>\n",
       "  <tbody>\n",
       "    <tr>\n",
       "      <td>0</td>\n",
       "      <td>000012768d</td>\n",
       "      <td>7e3e2e3984</td>\n",
       "      <td>2018-12-01 07:12:45</td>\n",
       "      <td>10.0</td>\n",
       "      <td>0.0</td>\n",
       "      <td>0.0</td>\n",
       "      <td>0.0</td>\n",
       "      <td>1007.0</td>\n",
       "      <td>54a4a11a29</td>\n",
       "      <td>9a80204f78</td>\n",
       "      <td>2.0</td>\n",
       "      <td>80.0</td>\n",
       "      <td>NaN</td>\n",
       "    </tr>\n",
       "    <tr>\n",
       "      <td>1</td>\n",
       "      <td>000012768d</td>\n",
       "      <td>7e3e2e3984</td>\n",
       "      <td>2018-12-01 07:12:45</td>\n",
       "      <td>10.0</td>\n",
       "      <td>0.0</td>\n",
       "      <td>0.0</td>\n",
       "      <td>0.0</td>\n",
       "      <td>1007.0</td>\n",
       "      <td>54a4a11a29</td>\n",
       "      <td>da89ebd374</td>\n",
       "      <td>1.0</td>\n",
       "      <td>65.0</td>\n",
       "      <td>NaN</td>\n",
       "    </tr>\n",
       "    <tr>\n",
       "      <td>2</td>\n",
       "      <td>000012768d</td>\n",
       "      <td>7e3e2e3984</td>\n",
       "      <td>2018-12-01 07:12:45</td>\n",
       "      <td>10.0</td>\n",
       "      <td>0.0</td>\n",
       "      <td>0.0</td>\n",
       "      <td>0.0</td>\n",
       "      <td>1007.0</td>\n",
       "      <td>54a4a11a29</td>\n",
       "      <td>0a95e1151d</td>\n",
       "      <td>1.0</td>\n",
       "      <td>24.0</td>\n",
       "      <td>NaN</td>\n",
       "    </tr>\n",
       "    <tr>\n",
       "      <td>3</td>\n",
       "      <td>000012768d</td>\n",
       "      <td>7e3e2e3984</td>\n",
       "      <td>2018-12-01 07:12:45</td>\n",
       "      <td>10.0</td>\n",
       "      <td>0.0</td>\n",
       "      <td>0.0</td>\n",
       "      <td>0.0</td>\n",
       "      <td>1007.0</td>\n",
       "      <td>54a4a11a29</td>\n",
       "      <td>4055b15e4a</td>\n",
       "      <td>2.0</td>\n",
       "      <td>50.0</td>\n",
       "      <td>NaN</td>\n",
       "    </tr>\n",
       "    <tr>\n",
       "      <td>4</td>\n",
       "      <td>000012768d</td>\n",
       "      <td>7e3e2e3984</td>\n",
       "      <td>2018-12-01 07:12:45</td>\n",
       "      <td>10.0</td>\n",
       "      <td>0.0</td>\n",
       "      <td>0.0</td>\n",
       "      <td>0.0</td>\n",
       "      <td>1007.0</td>\n",
       "      <td>54a4a11a29</td>\n",
       "      <td>a685f1916b</td>\n",
       "      <td>1.0</td>\n",
       "      <td>22.0</td>\n",
       "      <td>NaN</td>\n",
       "    </tr>\n",
       "  </tbody>\n",
       "</table>\n",
       "</div>"
      ],
      "text/plain": [
       "    client_id transaction_id transaction_datetime  regular_points_received  \\\n",
       "0  000012768d     7e3e2e3984  2018-12-01 07:12:45                     10.0   \n",
       "1  000012768d     7e3e2e3984  2018-12-01 07:12:45                     10.0   \n",
       "2  000012768d     7e3e2e3984  2018-12-01 07:12:45                     10.0   \n",
       "3  000012768d     7e3e2e3984  2018-12-01 07:12:45                     10.0   \n",
       "4  000012768d     7e3e2e3984  2018-12-01 07:12:45                     10.0   \n",
       "\n",
       "   express_points_received  regular_points_spent  express_points_spent  \\\n",
       "0                      0.0                   0.0                   0.0   \n",
       "1                      0.0                   0.0                   0.0   \n",
       "2                      0.0                   0.0                   0.0   \n",
       "3                      0.0                   0.0                   0.0   \n",
       "4                      0.0                   0.0                   0.0   \n",
       "\n",
       "   purchase_sum    store_id  product_id  product_quantity  trn_sum_from_iss  \\\n",
       "0        1007.0  54a4a11a29  9a80204f78               2.0              80.0   \n",
       "1        1007.0  54a4a11a29  da89ebd374               1.0              65.0   \n",
       "2        1007.0  54a4a11a29  0a95e1151d               1.0              24.0   \n",
       "3        1007.0  54a4a11a29  4055b15e4a               2.0              50.0   \n",
       "4        1007.0  54a4a11a29  a685f1916b               1.0              22.0   \n",
       "\n",
       "   trn_sum_from_red  \n",
       "0               NaN  \n",
       "1               NaN  \n",
       "2               NaN  \n",
       "3               NaN  \n",
       "4               NaN  "
      ]
     },
     "execution_count": 19,
     "metadata": {},
     "output_type": "execute_result"
    }
   ],
   "source": [
    "purchases.df.head(5)"
   ]
  },
  {
   "cell_type": "code",
   "execution_count": 20,
   "metadata": {
    "ExecuteTime": {
     "end_time": "2020-02-05T19:58:16.243191Z",
     "start_time": "2020-02-05T19:57:16.819638Z"
    },
    "hidden": true,
    "scrolled": true
   },
   "outputs": [
    {
     "data": {
      "text/html": [
       "<div>\n",
       "<style scoped>\n",
       "    .dataframe tbody tr th:only-of-type {\n",
       "        vertical-align: middle;\n",
       "    }\n",
       "\n",
       "    .dataframe tbody tr th {\n",
       "        vertical-align: top;\n",
       "    }\n",
       "\n",
       "    .dataframe thead th {\n",
       "        text-align: right;\n",
       "    }\n",
       "</style>\n",
       "<table border=\"1\" class=\"dataframe\">\n",
       "  <thead>\n",
       "    <tr style=\"text-align: right;\">\n",
       "      <th></th>\n",
       "      <th>client_id</th>\n",
       "      <th>transaction_id</th>\n",
       "      <th>transaction_datetime</th>\n",
       "      <th>regular_points_received</th>\n",
       "      <th>express_points_received</th>\n",
       "      <th>regular_points_spent</th>\n",
       "      <th>express_points_spent</th>\n",
       "      <th>purchase_sum</th>\n",
       "      <th>store_id</th>\n",
       "      <th>product_id</th>\n",
       "      <th>product_quantity</th>\n",
       "      <th>trn_sum_from_iss</th>\n",
       "      <th>trn_sum_from_red</th>\n",
       "    </tr>\n",
       "  </thead>\n",
       "  <tbody>\n",
       "    <tr>\n",
       "      <td>count</td>\n",
       "      <td>45786568</td>\n",
       "      <td>45786568</td>\n",
       "      <td>45786568</td>\n",
       "      <td>4.578657e+07</td>\n",
       "      <td>4.578657e+07</td>\n",
       "      <td>4.578657e+07</td>\n",
       "      <td>4.578657e+07</td>\n",
       "      <td>4.578657e+07</td>\n",
       "      <td>45786568</td>\n",
       "      <td>45786568</td>\n",
       "      <td>4.578657e+07</td>\n",
       "      <td>4.578657e+07</td>\n",
       "      <td>3.043356e+06</td>\n",
       "    </tr>\n",
       "    <tr>\n",
       "      <td>unique</td>\n",
       "      <td>400162</td>\n",
       "      <td>8045201</td>\n",
       "      <td>4260251</td>\n",
       "      <td>NaN</td>\n",
       "      <td>NaN</td>\n",
       "      <td>NaN</td>\n",
       "      <td>NaN</td>\n",
       "      <td>NaN</td>\n",
       "      <td>13882</td>\n",
       "      <td>42530</td>\n",
       "      <td>NaN</td>\n",
       "      <td>NaN</td>\n",
       "      <td>NaN</td>\n",
       "    </tr>\n",
       "    <tr>\n",
       "      <td>top</td>\n",
       "      <td>7a73214c0b</td>\n",
       "      <td>f9a45c98e1</td>\n",
       "      <td>2019-02-07 15:12:53</td>\n",
       "      <td>NaN</td>\n",
       "      <td>NaN</td>\n",
       "      <td>NaN</td>\n",
       "      <td>NaN</td>\n",
       "      <td>NaN</td>\n",
       "      <td>cfbbd53ab7</td>\n",
       "      <td>4009f09b04</td>\n",
       "      <td>NaN</td>\n",
       "      <td>NaN</td>\n",
       "      <td>NaN</td>\n",
       "    </tr>\n",
       "    <tr>\n",
       "      <td>freq</td>\n",
       "      <td>2513</td>\n",
       "      <td>116</td>\n",
       "      <td>150</td>\n",
       "      <td>NaN</td>\n",
       "      <td>NaN</td>\n",
       "      <td>NaN</td>\n",
       "      <td>NaN</td>\n",
       "      <td>NaN</td>\n",
       "      <td>18984</td>\n",
       "      <td>1824586</td>\n",
       "      <td>NaN</td>\n",
       "      <td>NaN</td>\n",
       "      <td>NaN</td>\n",
       "    </tr>\n",
       "    <tr>\n",
       "      <td>first</td>\n",
       "      <td>NaN</td>\n",
       "      <td>NaN</td>\n",
       "      <td>2018-11-21 21:02:33</td>\n",
       "      <td>NaN</td>\n",
       "      <td>NaN</td>\n",
       "      <td>NaN</td>\n",
       "      <td>NaN</td>\n",
       "      <td>NaN</td>\n",
       "      <td>NaN</td>\n",
       "      <td>NaN</td>\n",
       "      <td>NaN</td>\n",
       "      <td>NaN</td>\n",
       "      <td>NaN</td>\n",
       "    </tr>\n",
       "    <tr>\n",
       "      <td>last</td>\n",
       "      <td>NaN</td>\n",
       "      <td>NaN</td>\n",
       "      <td>2019-03-18 23:40:03</td>\n",
       "      <td>NaN</td>\n",
       "      <td>NaN</td>\n",
       "      <td>NaN</td>\n",
       "      <td>NaN</td>\n",
       "      <td>NaN</td>\n",
       "      <td>NaN</td>\n",
       "      <td>NaN</td>\n",
       "      <td>NaN</td>\n",
       "      <td>NaN</td>\n",
       "      <td>NaN</td>\n",
       "    </tr>\n",
       "    <tr>\n",
       "      <td>mean</td>\n",
       "      <td>NaN</td>\n",
       "      <td>NaN</td>\n",
       "      <td>NaN</td>\n",
       "      <td>6.886329e+00</td>\n",
       "      <td>6.084099e-02</td>\n",
       "      <td>-5.304835e+00</td>\n",
       "      <td>-3.181049e-01</td>\n",
       "      <td>6.389415e+02</td>\n",
       "      <td>NaN</td>\n",
       "      <td>NaN</td>\n",
       "      <td>7.930188e-01</td>\n",
       "      <td>5.875556e+01</td>\n",
       "      <td>7.670548e+01</td>\n",
       "    </tr>\n",
       "    <tr>\n",
       "      <td>std</td>\n",
       "      <td>NaN</td>\n",
       "      <td>NaN</td>\n",
       "      <td>NaN</td>\n",
       "      <td>1.195104e+01</td>\n",
       "      <td>2.425819e+00</td>\n",
       "      <td>3.559064e+01</td>\n",
       "      <td>3.279348e+00</td>\n",
       "      <td>7.569911e+02</td>\n",
       "      <td>NaN</td>\n",
       "      <td>NaN</td>\n",
       "      <td>3.126700e+00</td>\n",
       "      <td>8.423547e+01</td>\n",
       "      <td>8.416062e+01</td>\n",
       "    </tr>\n",
       "    <tr>\n",
       "      <td>min</td>\n",
       "      <td>NaN</td>\n",
       "      <td>NaN</td>\n",
       "      <td>NaN</td>\n",
       "      <td>0.000000e+00</td>\n",
       "      <td>0.000000e+00</td>\n",
       "      <td>-5.066000e+03</td>\n",
       "      <td>-3.000000e+02</td>\n",
       "      <td>0.000000e+00</td>\n",
       "      <td>NaN</td>\n",
       "      <td>NaN</td>\n",
       "      <td>0.000000e+00</td>\n",
       "      <td>0.000000e+00</td>\n",
       "      <td>0.000000e+00</td>\n",
       "    </tr>\n",
       "    <tr>\n",
       "      <td>25%</td>\n",
       "      <td>NaN</td>\n",
       "      <td>NaN</td>\n",
       "      <td>NaN</td>\n",
       "      <td>1.400000e+00</td>\n",
       "      <td>0.000000e+00</td>\n",
       "      <td>0.000000e+00</td>\n",
       "      <td>0.000000e+00</td>\n",
       "      <td>2.860000e+02</td>\n",
       "      <td>NaN</td>\n",
       "      <td>NaN</td>\n",
       "      <td>1.000000e+00</td>\n",
       "      <td>3.000000e+01</td>\n",
       "      <td>3.100000e+01</td>\n",
       "    </tr>\n",
       "    <tr>\n",
       "      <td>50%</td>\n",
       "      <td>NaN</td>\n",
       "      <td>NaN</td>\n",
       "      <td>NaN</td>\n",
       "      <td>3.800000e+00</td>\n",
       "      <td>0.000000e+00</td>\n",
       "      <td>0.000000e+00</td>\n",
       "      <td>0.000000e+00</td>\n",
       "      <td>5.390000e+02</td>\n",
       "      <td>NaN</td>\n",
       "      <td>NaN</td>\n",
       "      <td>1.000000e+00</td>\n",
       "      <td>5.100000e+01</td>\n",
       "      <td>5.500000e+01</td>\n",
       "    </tr>\n",
       "    <tr>\n",
       "      <td>75%</td>\n",
       "      <td>NaN</td>\n",
       "      <td>NaN</td>\n",
       "      <td>NaN</td>\n",
       "      <td>1.030000e+01</td>\n",
       "      <td>0.000000e+00</td>\n",
       "      <td>0.000000e+00</td>\n",
       "      <td>0.000000e+00</td>\n",
       "      <td>9.760000e+02</td>\n",
       "      <td>NaN</td>\n",
       "      <td>NaN</td>\n",
       "      <td>1.000000e+00</td>\n",
       "      <td>9.000000e+01</td>\n",
       "      <td>9.500000e+01</td>\n",
       "    </tr>\n",
       "    <tr>\n",
       "      <td>max</td>\n",
       "      <td>NaN</td>\n",
       "      <td>NaN</td>\n",
       "      <td>NaN</td>\n",
       "      <td>2.399000e+03</td>\n",
       "      <td>3.000000e+02</td>\n",
       "      <td>0.000000e+00</td>\n",
       "      <td>0.000000e+00</td>\n",
       "      <td>3.514904e+04</td>\n",
       "      <td>NaN</td>\n",
       "      <td>NaN</td>\n",
       "      <td>1.494100e+04</td>\n",
       "      <td>3.514900e+04</td>\n",
       "      <td>8.789000e+03</td>\n",
       "    </tr>\n",
       "  </tbody>\n",
       "</table>\n",
       "</div>"
      ],
      "text/plain": [
       "         client_id transaction_id transaction_datetime  \\\n",
       "count     45786568       45786568             45786568   \n",
       "unique      400162        8045201              4260251   \n",
       "top     7a73214c0b     f9a45c98e1  2019-02-07 15:12:53   \n",
       "freq          2513            116                  150   \n",
       "first          NaN            NaN  2018-11-21 21:02:33   \n",
       "last           NaN            NaN  2019-03-18 23:40:03   \n",
       "mean           NaN            NaN                  NaN   \n",
       "std            NaN            NaN                  NaN   \n",
       "min            NaN            NaN                  NaN   \n",
       "25%            NaN            NaN                  NaN   \n",
       "50%            NaN            NaN                  NaN   \n",
       "75%            NaN            NaN                  NaN   \n",
       "max            NaN            NaN                  NaN   \n",
       "\n",
       "        regular_points_received  express_points_received  \\\n",
       "count              4.578657e+07             4.578657e+07   \n",
       "unique                      NaN                      NaN   \n",
       "top                         NaN                      NaN   \n",
       "freq                        NaN                      NaN   \n",
       "first                       NaN                      NaN   \n",
       "last                        NaN                      NaN   \n",
       "mean               6.886329e+00             6.084099e-02   \n",
       "std                1.195104e+01             2.425819e+00   \n",
       "min                0.000000e+00             0.000000e+00   \n",
       "25%                1.400000e+00             0.000000e+00   \n",
       "50%                3.800000e+00             0.000000e+00   \n",
       "75%                1.030000e+01             0.000000e+00   \n",
       "max                2.399000e+03             3.000000e+02   \n",
       "\n",
       "        regular_points_spent  express_points_spent  purchase_sum    store_id  \\\n",
       "count           4.578657e+07          4.578657e+07  4.578657e+07    45786568   \n",
       "unique                   NaN                   NaN           NaN       13882   \n",
       "top                      NaN                   NaN           NaN  cfbbd53ab7   \n",
       "freq                     NaN                   NaN           NaN       18984   \n",
       "first                    NaN                   NaN           NaN         NaN   \n",
       "last                     NaN                   NaN           NaN         NaN   \n",
       "mean           -5.304835e+00         -3.181049e-01  6.389415e+02         NaN   \n",
       "std             3.559064e+01          3.279348e+00  7.569911e+02         NaN   \n",
       "min            -5.066000e+03         -3.000000e+02  0.000000e+00         NaN   \n",
       "25%             0.000000e+00          0.000000e+00  2.860000e+02         NaN   \n",
       "50%             0.000000e+00          0.000000e+00  5.390000e+02         NaN   \n",
       "75%             0.000000e+00          0.000000e+00  9.760000e+02         NaN   \n",
       "max             0.000000e+00          0.000000e+00  3.514904e+04         NaN   \n",
       "\n",
       "        product_id  product_quantity  trn_sum_from_iss  trn_sum_from_red  \n",
       "count     45786568      4.578657e+07      4.578657e+07      3.043356e+06  \n",
       "unique       42530               NaN               NaN               NaN  \n",
       "top     4009f09b04               NaN               NaN               NaN  \n",
       "freq       1824586               NaN               NaN               NaN  \n",
       "first          NaN               NaN               NaN               NaN  \n",
       "last           NaN               NaN               NaN               NaN  \n",
       "mean           NaN      7.930188e-01      5.875556e+01      7.670548e+01  \n",
       "std            NaN      3.126700e+00      8.423547e+01      8.416062e+01  \n",
       "min            NaN      0.000000e+00      0.000000e+00      0.000000e+00  \n",
       "25%            NaN      1.000000e+00      3.000000e+01      3.100000e+01  \n",
       "50%            NaN      1.000000e+00      5.100000e+01      5.500000e+01  \n",
       "75%            NaN      1.000000e+00      9.000000e+01      9.500000e+01  \n",
       "max            NaN      1.494100e+04      3.514900e+04      8.789000e+03  "
      ]
     },
     "execution_count": 20,
     "metadata": {},
     "output_type": "execute_result"
    }
   ],
   "source": [
    "purchases.df.describe(include='all')"
   ]
  },
  {
   "cell_type": "markdown",
   "metadata": {
    "hidden": true
   },
   "source": [
    "## Purchases analytics"
   ]
  },
  {
   "cell_type": "code",
   "execution_count": 26,
   "metadata": {
    "ExecuteTime": {
     "end_time": "2020-02-05T20:06:24.009685Z",
     "start_time": "2020-02-05T20:05:59.978085Z"
    },
    "hidden": true
   },
   "outputs": [
    {
     "data": {
      "text/plain": [
       "transaction_datetime\n",
       "2018-11-21       190\n",
       "2018-11-22    338469\n",
       "2018-11-23    379366\n",
       "2018-11-24    356983\n",
       "2018-11-25    320488\n",
       "               ...  \n",
       "2019-03-14    491228\n",
       "2019-03-15    552207\n",
       "2019-03-16    460425\n",
       "2019-03-17    407371\n",
       "2019-03-18    429524\n",
       "Name: client_id, Length: 118, dtype: int64"
      ]
     },
     "execution_count": 26,
     "metadata": {},
     "output_type": "execute_result"
    }
   ],
   "source": [
    "count_tr_per_day = purchases.df.groupby(purchases.df['transaction_datetime'].dt.date).count().iloc[:,0]\n",
    "count_tr_per_day"
   ]
  },
  {
   "cell_type": "code",
   "execution_count": 30,
   "metadata": {
    "ExecuteTime": {
     "end_time": "2020-02-05T20:07:08.603018Z",
     "start_time": "2020-02-05T20:07:08.596792Z"
    },
    "hidden": true
   },
   "outputs": [
    {
     "data": {
      "text/plain": [
       "(array([   190, 338469, 379366, 356983, 320488, 340280, 329950, 334298,\n",
       "        347801, 386950, 373644, 330191, 350240, 328373, 337011, 340250,\n",
       "        381736, 364194, 317216, 323159, 316127, 323012, 325368, 360445,\n",
       "        344786, 305082, 328904, 318550, 324985, 319551, 351157, 346908,\n",
       "        312213, 346092, 344078, 359948, 376945, 414105, 449503, 621704,\n",
       "        428027,  99966, 224540, 253083, 292622, 316199, 345094, 301200,\n",
       "        305590, 322610, 341313, 379351, 379858, 344646, 348190, 359463,\n",
       "        363037, 359595, 397434, 389986, 333669, 371945, 362507, 367423,\n",
       "        375954, 407414, 404897, 348498, 385727, 378272, 384635, 376829,\n",
       "        416951, 409931, 353121, 385030, 410990, 426985, 422797, 486469,\n",
       "        459906, 400843, 434476, 429750, 431314, 448520, 501046, 489902,\n",
       "        432160, 436732, 426164, 438065, 452333, 509035, 466061, 384115,\n",
       "        478923, 439117, 499767, 482871, 519936, 521912, 457953, 473653,\n",
       "        465849, 475934, 587661, 520138, 457045, 443686, 499124, 424377,\n",
       "        425345, 491228, 552207, 460425, 407371, 429524]),\n",
       " Index([2018-11-21, 2018-11-22, 2018-11-23, 2018-11-24, 2018-11-25, 2018-11-26,\n",
       "        2018-11-27, 2018-11-28, 2018-11-29, 2018-11-30,\n",
       "        ...\n",
       "        2019-03-09, 2019-03-10, 2019-03-11, 2019-03-12, 2019-03-13, 2019-03-14,\n",
       "        2019-03-15, 2019-03-16, 2019-03-17, 2019-03-18],\n",
       "       dtype='object', name='transaction_datetime', length=118))"
      ]
     },
     "execution_count": 30,
     "metadata": {},
     "output_type": "execute_result"
    }
   ],
   "source": [
    "count_tr_per_day.values, count_tr_per_day.index"
   ]
  },
  {
   "cell_type": "code",
   "execution_count": 29,
   "metadata": {
    "ExecuteTime": {
     "end_time": "2020-02-05T20:07:03.189587Z",
     "start_time": "2020-02-05T20:06:50.978729Z"
    },
    "hidden": true
   },
   "outputs": [],
   "source": [
    "purchases.df['date'] = purchases.df['transaction_datetime'].dt.date"
   ]
  },
  {
   "cell_type": "code",
   "execution_count": 32,
   "metadata": {
    "ExecuteTime": {
     "end_time": "2020-02-05T20:09:00.964877Z",
     "start_time": "2020-02-05T20:08:56.667441Z"
    },
    "hidden": true
   },
   "outputs": [
    {
     "data": {
      "image/png": "[encoded data removed]",
      "text/plain": [
       "<Figure size 432x288 with 1 Axes>"
      ]
     },
     "metadata": {
      "needs_background": "light"
     },
     "output_type": "display_data"
    }
   ],
   "source": [
    "purchases.df['transaction_datetime'].groupby(purchases.df['transaction_datetime'].dt.year).count().plot(kind='bar');\n",
    "plt.title(\"Distribution of transactions over years\");"
   ]
  },
  {
   "cell_type": "code",
   "execution_count": 31,
   "metadata": {
    "ExecuteTime": {
     "end_time": "2020-02-05T20:07:50.305928Z",
     "start_time": "2020-02-05T20:07:50.115775Z"
    },
    "hidden": true
   },
   "outputs": [
    {
     "data": {
      "application/vnd.plotly.v1+json": {
       "config": {
        "plotlyServerURL": "https://plot.ly"
       },
       "data": [
        {
         "type": "bar",
         "x": [
          "2018-11-21",
          "2018-11-22",
          "2018-11-23",
          "2018-11-24",
          "2018-11-25",
          "2018-11-26",
          "2018-11-27",
          "2018-11-28",
          "2018-11-29",
          "2018-11-30",
          "2018-12-01",
          "2018-12-02",
          "2018-12-03",
          "2018-12-04",
          "2018-12-05",
          "2018-12-06",
          "2018-12-07",
          "2018-12-08",
          "2018-12-09",
          "2018-12-10",
          "2018-12-11",
          "2018-12-12",
          "2018-12-13",
          "2018-12-14",
          "2018-12-15",
          "2018-12-16",
          "2018-12-17",
          "2018-12-18",
          "2018-12-19",
          "2018-12-20",
          "2018-12-21",
          "2018-12-22",
          "2018-12-23",
          "2018-12-24",
          "2018-12-25",
          "2018-12-26",
          "2018-12-27",
          "2018-12-28",
          "2018-12-29",
          "2018-12-30",
          "2018-12-31",
          "2019-01-01",
          "2019-01-02",
          "2019-01-03",
          "2019-01-04",
          "2019-01-05",
          "2019-01-06",
          "2019-01-07",
          "2019-01-08",
          "2019-01-09",
          "2019-01-10",
          "2019-01-11",
          "2019-01-12",
          "2019-01-13",
          "2019-01-14",
          "2019-01-15",
          "2019-01-16",
          "2019-01-17",
          "2019-01-18",
          "2019-01-19",
          "2019-01-20",
          "2019-01-21",
          "2019-01-22",
          "2019-01-23",
          "2019-01-24",
          "2019-01-25",
          "2019-01-26",
          "2019-01-27",
          "2019-01-28",
          "2019-01-29",
          "2019-01-30",
          "2019-01-31",
          "2019-02-01",
          "2019-02-02",
          "2019-02-03",
          "2019-02-04",
          "2019-02-05",
          "2019-02-06",
          "2019-02-07",
          "2019-02-08",
          "2019-02-09",
          "2019-02-10",
          "2019-02-11",
          "2019-02-12",
          "2019-02-13",
          "2019-02-14",
          "2019-02-15",
          "2019-02-16",
          "2019-02-17",
          "2019-02-18",
          "2019-02-19",
          "2019-02-20",
          "2019-02-21",
          "2019-02-22",
          "2019-02-23",
          "2019-02-24",
          "2019-02-25",
          "2019-02-26",
          "2019-02-27",
          "2019-02-28",
          "2019-03-01",
          "2019-03-02",
          "2019-03-03",
          "2019-03-04",
          "2019-03-05",
          "2019-03-06",
          "2019-03-07",
          "2019-03-08",
          "2019-03-09",
          "2019-03-10",
          "2019-03-11",
          "2019-03-12",
          "2019-03-13",
          "2019-03-14",
          "2019-03-15",
          "2019-03-16",
          "2019-03-17",
          "2019-03-18"
         ],
         "y": [
          190,
          338469,
          379366,
          356983,
          320488,
          340280,
          329950,
          334298,
          347801,
          386950,
          373644,
          330191,
          350240,
          328373,
          337011,
          340250,
          381736,
          364194,
          317216,
          323159,
          316127,
          323012,
          325368,
          360445,
          344786,
          305082,
          328904,
          318550,
          324985,
          319551,
          351157,
          346908,
          312213,
          346092,
          344078,
          359948,
          376945,
          414105,
          449503,
          621704,
          428027,
          99966,
          224540,
          253083,
          292622,
          316199,
          345094,
          301200,
          305590,
          322610,
          341313,
          379351,
          379858,
          344646,
          348190,
          359463,
          363037,
          359595,
          397434,
          389986,
          333669,
          371945,
          362507,
          367423,
          375954,
          407414,
          404897,
          348498,
          385727,
          378272,
          384635,
          376829,
          416951,
          409931,
          353121,
          385030,
          410990,
          426985,
          422797,
          486469,
          459906,
          400843,
          434476,
          429750,
          431314,
          448520,
          501046,
          489902,
          432160,
          436732,
          426164,
          438065,
          452333,
          509035,
          466061,
          384115,
          478923,
          439117,
          499767,
          482871,
          519936,
          521912,
          457953,
          473653,
          465849,
          475934,
          587661,
          520138,
          457045,
          443686,
          499124,
          424377,
          425345,
          491228,
          552207,
          460425,
          407371,
          429524
         ]
        }
       ],
       "layout": {
        "font": {
         "color": "#7f7f7f",
         "family": "Courier New, monospace",
         "size": 18
        },
        "template": {
         "data": {
          "bar": [
           {
            "error_x": {
             "color": "#2a3f5f"
            },
            "error_y": {
             "color": "#2a3f5f"
            },
            "marker": {
             "line": {
              "color": "#E5ECF6",
              "width": 0.5
             }
            },
            "type": "bar"
           }
          ],
          "barpolar": [
           {
            "marker": {
             "line": {
              "color": "#E5ECF6",
              "width": 0.5
             }
            },
            "type": "barpolar"
           }
          ],
          "carpet": [
           {
            "aaxis": {
             "endlinecolor": "#2a3f5f",
             "gridcolor": "white",
             "linecolor": "white",
             "minorgridcolor": "white",
             "startlinecolor": "#2a3f5f"
            },
            "baxis": {
             "endlinecolor": "#2a3f5f",
             "gridcolor": "white",
             "linecolor": "white",
             "minorgridcolor": "white",
             "startlinecolor": "#2a3f5f"
            },
            "type": "carpet"
           }
          ],
          "choropleth": [
           {
            "colorbar": {
             "outlinewidth": 0,
             "ticks": ""
            },
            "type": "choropleth"
           }
          ],
          "contour": [
           {
            "colorbar": {
             "outlinewidth": 0,
             "ticks": ""
            },
            "colorscale": [
             [
              0,
              "#0d0887"
             ],
             [
              0.1111111111111111,
              "#46039f"
             ],
             [
              0.2222222222222222,
              "#7201a8"
             ],
             [
              0.3333333333333333,
              "#9c179e"
             ],
             [
              0.4444444444444444,
              "#bd3786"
             ],
             [
              0.5555555555555556,
              "#d8576b"
             ],
             [
              0.6666666666666666,
              "#ed7953"
             ],
             [
              0.7777777777777778,
              "#fb9f3a"
             ],
             [
              0.8888888888888888,
              "#fdca26"
             ],
             [
              1,
              "#f0f921"
             ]
            ],
            "type": "contour"
           }
          ],
          "contourcarpet": [
           {
            "colorbar": {
             "outlinewidth": 0,
             "ticks": ""
            },
            "type": "contourcarpet"
           }
          ],
          "heatmap": [
           {
            "colorbar": {
             "outlinewidth": 0,
             "ticks": ""
            },
            "colorscale": [
             [
              0,
              "#0d0887"
             ],
             [
              0.1111111111111111,
              "#46039f"
             ],
             [
              0.2222222222222222,
              "#7201a8"
             ],
             [
              0.3333333333333333,
              "#9c179e"
             ],
             [
              0.4444444444444444,
              "#bd3786"
             ],
             [
              0.5555555555555556,
              "#d8576b"
             ],
             [
              0.6666666666666666,
              "#ed7953"
             ],
             [
              0.7777777777777778,
              "#fb9f3a"
             ],
             [
              0.8888888888888888,
              "#fdca26"
             ],
             [
              1,
              "#f0f921"
             ]
            ],
            "type": "heatmap"
           }
          ],
          "heatmapgl": [
           {
            "colorbar": {
             "outlinewidth": 0,
             "ticks": ""
            },
            "colorscale": [
             [
              0,
              "#0d0887"
             ],
             [
              0.1111111111111111,
              "#46039f"
             ],
             [
              0.2222222222222222,
              "#7201a8"
             ],
             [
              0.3333333333333333,
              "#9c179e"
             ],
             [
              0.4444444444444444,
              "#bd3786"
             ],
             [
              0.5555555555555556,
              "#d8576b"
             ],
             [
              0.6666666666666666,
              "#ed7953"
             ],
             [
              0.7777777777777778,
              "#fb9f3a"
             ],
             [
              0.8888888888888888,
              "#fdca26"
             ],
             [
              1,
              "#f0f921"
             ]
            ],
            "type": "heatmapgl"
           }
          ],
          "histogram": [
           {
            "marker": {
             "colorbar": {
              "outlinewidth": 0,
              "ticks": ""
             }
            },
            "type": "histogram"
           }
          ],
          "histogram2d": [
           {
            "colorbar": {
             "outlinewidth": 0,
             "ticks": ""
            },
            "colorscale": [
             [
              0,
              "#0d0887"
             ],
             [
              0.1111111111111111,
              "#46039f"
             ],
             [
              0.2222222222222222,
              "#7201a8"
             ],
             [
              0.3333333333333333,
              "#9c179e"
             ],
             [
              0.4444444444444444,
              "#bd3786"
             ],
             [
              0.5555555555555556,
              "#d8576b"
             ],
             [
              0.6666666666666666,
              "#ed7953"
             ],
             [
              0.7777777777777778,
              "#fb9f3a"
             ],
             [
              0.8888888888888888,
              "#fdca26"
             ],
             [
              1,
              "#f0f921"
             ]
            ],
            "type": "histogram2d"
           }
          ],
          "histogram2dcontour": [
           {
            "colorbar": {
             "outlinewidth": 0,
             "ticks": ""
            },
            "colorscale": [
             [
              0,
              "#0d0887"
             ],
             [
              0.1111111111111111,
              "#46039f"
             ],
             [
              0.2222222222222222,
              "#7201a8"
             ],
             [
              0.3333333333333333,
              "#9c179e"
             ],
             [
              0.4444444444444444,
              "#bd3786"
             ],
             [
              0.5555555555555556,
              "#d8576b"
             ],
             [
              0.6666666666666666,
              "#ed7953"
             ],
             [
              0.7777777777777778,
              "#fb9f3a"
             ],
             [
              0.8888888888888888,
              "#fdca26"
             ],
             [
              1,
              "#f0f921"
             ]
            ],
            "type": "histogram2dcontour"
           }
          ],
          "mesh3d": [
           {
            "colorbar": {
             "outlinewidth": 0,
             "ticks": ""
            },
            "type": "mesh3d"
           }
          ],
          "parcoords": [
           {
            "line": {
             "colorbar": {
              "outlinewidth": 0,
              "ticks": ""
             }
            },
            "type": "parcoords"
           }
          ],
          "pie": [
           {
            "automargin": true,
            "type": "pie"
           }
          ],
          "scatter": [
           {
            "marker": {
             "colorbar": {
              "outlinewidth": 0,
              "ticks": ""
             }
            },
            "type": "scatter"
           }
          ],
          "scatter3d": [
           {
            "line": {
             "colorbar": {
              "outlinewidth": 0,
              "ticks": ""
             }
            },
            "marker": {
             "colorbar": {
              "outlinewidth": 0,
              "ticks": ""
             }
            },
            "type": "scatter3d"
           }
          ],
          "scattercarpet": [
           {
            "marker": {
             "colorbar": {
              "outlinewidth": 0,
              "ticks": ""
             }
            },
            "type": "scattercarpet"
           }
          ],
          "scattergeo": [
           {
            "marker": {
             "colorbar": {
              "outlinewidth": 0,
              "ticks": ""
             }
            },
            "type": "scattergeo"
           }
          ],
          "scattergl": [
           {
            "marker": {
             "colorbar": {
              "outlinewidth": 0,
              "ticks": ""
             }
            },
            "type": "scattergl"
           }
          ],
          "scattermapbox": [
           {
            "marker": {
             "colorbar": {
              "outlinewidth": 0,
              "ticks": ""
             }
            },
            "type": "scattermapbox"
           }
          ],
          "scatterpolar": [
           {
            "marker": {
             "colorbar": {
              "outlinewidth": 0,
              "ticks": ""
             }
            },
            "type": "scatterpolar"
           }
          ],
          "scatterpolargl": [
           {
            "marker": {
             "colorbar": {
              "outlinewidth": 0,
              "ticks": ""
             }
            },
            "type": "scatterpolargl"
           }
          ],
          "scatterternary": [
           {
            "marker": {
             "colorbar": {
              "outlinewidth": 0,
              "ticks": ""
             }
            },
            "type": "scatterternary"
           }
          ],
          "surface": [
           {
            "colorbar": {
             "outlinewidth": 0,
             "ticks": ""
            },
            "colorscale": [
             [
              0,
              "#0d0887"
             ],
             [
              0.1111111111111111,
              "#46039f"
             ],
             [
              0.2222222222222222,
              "#7201a8"
             ],
             [
              0.3333333333333333,
              "#9c179e"
             ],
             [
              0.4444444444444444,
              "#bd3786"
             ],
             [
              0.5555555555555556,
              "#d8576b"
             ],
             [
              0.6666666666666666,
              "#ed7953"
             ],
             [
              0.7777777777777778,
              "#fb9f3a"
             ],
             [
              0.8888888888888888,
              "#fdca26"
             ],
             [
              1,
              "#f0f921"
             ]
            ],
            "type": "surface"
           }
          ],
          "table": [
           {
            "cells": {
             "fill": {
              "color": "#EBF0F8"
             },
             "line": {
              "color": "white"
             }
            },
            "header": {
             "fill": {
              "color": "#C8D4E3"
             },
             "line": {
              "color": "white"
             }
            },
            "type": "table"
           }
          ]
         },
         "layout": {
          "annotationdefaults": {
           "arrowcolor": "#2a3f5f",
           "arrowhead": 0,
           "arrowwidth": 1
          },
          "coloraxis": {
           "colorbar": {
            "outlinewidth": 0,
            "ticks": ""
           }
          },
          "colorscale": {
           "diverging": [
            [
             0,
             "#8e0152"
            ],
            [
             0.1,
             "#c51b7d"
            ],
            [
             0.2,
             "#de77ae"
            ],
            [
             0.3,
             "#f1b6da"
            ],
            [
             0.4,
             "#fde0ef"
            ],
            [
             0.5,
             "#f7f7f7"
            ],
            [
             0.6,
             "#e6f5d0"
            ],
            [
             0.7,
             "#b8e186"
            ],
            [
             0.8,
             "#7fbc41"
            ],
            [
             0.9,
             "#4d9221"
            ],
            [
             1,
             "#276419"
            ]
           ],
           "sequential": [
            [
             0,
             "#0d0887"
            ],
            [
             0.1111111111111111,
             "#46039f"
            ],
            [
             0.2222222222222222,
             "#7201a8"
            ],
            [
             0.3333333333333333,
             "#9c179e"
            ],
            [
             0.4444444444444444,
             "#bd3786"
            ],
            [
             0.5555555555555556,
             "#d8576b"
            ],
            [
             0.6666666666666666,
             "#ed7953"
            ],
            [
             0.7777777777777778,
             "#fb9f3a"
            ],
            [
             0.8888888888888888,
             "#fdca26"
            ],
            [
             1,
             "#f0f921"
            ]
           ],
           "sequentialminus": [
            [
             0,
             "#0d0887"
            ],
            [
             0.1111111111111111,
             "#46039f"
            ],
            [
             0.2222222222222222,
             "#7201a8"
            ],
            [
             0.3333333333333333,
             "#9c179e"
            ],
            [
             0.4444444444444444,
             "#bd3786"
            ],
            [
             0.5555555555555556,
             "#d8576b"
            ],
            [
             0.6666666666666666,
             "#ed7953"
            ],
            [
             0.7777777777777778,
             "#fb9f3a"
            ],
            [
             0.8888888888888888,
             "#fdca26"
            ],
            [
             1,
             "#f0f921"
            ]
           ]
          },
          "colorway": [
           "#636efa",
           "#EF553B",
           "#00cc96",
           "#ab63fa",
           "#FFA15A",
           "#19d3f3",
           "#FF6692",
           "#B6E880",
           "#FF97FF",
           "#FECB52"
          ],
          "font": {
           "color": "#2a3f5f"
          },
          "geo": {
           "bgcolor": "white",
           "lakecolor": "white",
           "landcolor": "#E5ECF6",
           "showlakes": true,
           "showland": true,
           "subunitcolor": "white"
          },
          "hoverlabel": {
           "align": "left"
          },
          "hovermode": "closest",
          "mapbox": {
           "style": "light"
          },
          "paper_bgcolor": "white",
          "plot_bgcolor": "#E5ECF6",
          "polar": {
           "angularaxis": {
            "gridcolor": "white",
            "linecolor": "white",
            "ticks": ""
           },
           "bgcolor": "#E5ECF6",
           "radialaxis": {
            "gridcolor": "white",
            "linecolor": "white",
            "ticks": ""
           }
          },
          "scene": {
           "xaxis": {
            "backgroundcolor": "#E5ECF6",
            "gridcolor": "white",
            "gridwidth": 2,
            "linecolor": "white",
            "showbackground": true,
            "ticks": "",
            "zerolinecolor": "white"
           },
           "yaxis": {
            "backgroundcolor": "#E5ECF6",
            "gridcolor": "white",
            "gridwidth": 2,
            "linecolor": "white",
            "showbackground": true,
            "ticks": "",
            "zerolinecolor": "white"
           },
           "zaxis": {
            "backgroundcolor": "#E5ECF6",
            "gridcolor": "white",
            "gridwidth": 2,
            "linecolor": "white",
            "showbackground": true,
            "ticks": "",
            "zerolinecolor": "white"
           }
          },
          "shapedefaults": {
           "line": {
            "color": "#2a3f5f"
           }
          },
          "ternary": {
           "aaxis": {
            "gridcolor": "white",
            "linecolor": "white",
            "ticks": ""
           },
           "baxis": {
            "gridcolor": "white",
            "linecolor": "white",
            "ticks": ""
           },
           "bgcolor": "#E5ECF6",
           "caxis": {
            "gridcolor": "white",
            "linecolor": "white",
            "ticks": ""
           }
          },
          "title": {
           "x": 0.05
          },
          "xaxis": {
           "automargin": true,
           "gridcolor": "white",
           "linecolor": "white",
           "ticks": "",
           "title": {
            "standoff": 15
           },
           "zerolinecolor": "white",
           "zerolinewidth": 2
          },
          "yaxis": {
           "automargin": true,
           "gridcolor": "white",
           "linecolor": "white",
           "ticks": "",
           "title": {
            "standoff": 15
           },
           "zerolinecolor": "white",
           "zerolinewidth": 2
          }
         }
        },
        "title": {
         "text": "Distribution of puchases over days"
        },
        "xaxis": {
         "title": {
          "text": "Days"
         }
        },
        "yaxis": {
         "title": {
          "text": "Number of transactions"
         }
        }
       }
      },
      "text/html": [
       "<div>\n",
       "        \n",
       "        \n",
       "            <div id=\"162da43a-8333-45af-9dc9-13672f3a0b15\" class=\"plotly-graph-div\" style=\"height:525px; width:100%;\"></div>\n",
       "            <script type=\"text/javascript\">\n",
       "                require([\"plotly\"], function(Plotly) {\n",
       "                    window.PLOTLYENV=window.PLOTLYENV || {};\n",
       "                    \n",
       "                if (document.getElementById(\"162da43a-8333-45af-9dc9-13672f3a0b15\")) {\n",
       "                    Plotly.newPlot(\n",
       "                        '162da43a-8333-45af-9dc9-13672f3a0b15',\n",
       "                        [{\"type\": \"bar\", \"x\": [\"2018-11-21\", \"2018-11-22\", \"2018-11-23\", \"2018-11-24\", \"2018-11-25\", \"2018-11-26\", \"2018-11-27\", \"2018-11-28\", \"2018-11-29\", \"2018-11-30\", \"2018-12-01\", \"2018-12-02\", \"2018-12-03\", \"2018-12-04\", \"2018-12-05\", \"2018-12-06\", \"2018-12-07\", \"2018-12-08\", \"2018-12-09\", \"2018-12-10\", \"2018-12-11\", \"2018-12-12\", \"2018-12-13\", \"2018-12-14\", \"2018-12-15\", \"2018-12-16\", \"2018-12-17\", \"2018-12-18\", \"2018-12-19\", \"2018-12-20\", \"2018-12-21\", \"2018-12-22\", \"2018-12-23\", \"2018-12-24\", \"2018-12-25\", \"2018-12-26\", \"2018-12-27\", \"2018-12-28\", \"2018-12-29\", \"2018-12-30\", \"2018-12-31\", \"2019-01-01\", \"2019-01-02\", \"2019-01-03\", \"2019-01-04\", \"2019-01-05\", \"2019-01-06\", \"2019-01-07\", \"2019-01-08\", \"2019-01-09\", \"2019-01-10\", \"2019-01-11\", \"2019-01-12\", \"2019-01-13\", \"2019-01-14\", \"2019-01-15\", \"2019-01-16\", \"2019-01-17\", \"2019-01-18\", \"2019-01-19\", \"2019-01-20\", \"2019-01-21\", \"2019-01-22\", \"2019-01-23\", \"2019-01-24\", \"2019-01-25\", \"2019-01-26\", \"2019-01-27\", \"2019-01-28\", \"2019-01-29\", \"2019-01-30\", \"2019-01-31\", \"2019-02-01\", \"2019-02-02\", \"2019-02-03\", \"2019-02-04\", \"2019-02-05\", \"2019-02-06\", \"2019-02-07\", \"2019-02-08\", \"2019-02-09\", \"2019-02-10\", \"2019-02-11\", \"2019-02-12\", \"2019-02-13\", \"2019-02-14\", \"2019-02-15\", \"2019-02-16\", \"2019-02-17\", \"2019-02-18\", \"2019-02-19\", \"2019-02-20\", \"2019-02-21\", \"2019-02-22\", \"2019-02-23\", \"2019-02-24\", \"2019-02-25\", \"2019-02-26\", \"2019-02-27\", \"2019-02-28\", \"2019-03-01\", \"2019-03-02\", \"2019-03-03\", \"2019-03-04\", \"2019-03-05\", \"2019-03-06\", \"2019-03-07\", \"2019-03-08\", \"2019-03-09\", \"2019-03-10\", \"2019-03-11\", \"2019-03-12\", \"2019-03-13\", \"2019-03-14\", \"2019-03-15\", \"2019-03-16\", \"2019-03-17\", \"2019-03-18\"], \"y\": [190, 338469, 379366, 356983, 320488, 340280, 329950, 334298, 347801, 386950, 373644, 330191, 350240, 328373, 337011, 340250, 381736, 364194, 317216, 323159, 316127, 323012, 325368, 360445, 344786, 305082, 328904, 318550, 324985, 319551, 351157, 346908, 312213, 346092, 344078, 359948, 376945, 414105, 449503, 621704, 428027, 99966, 224540, 253083, 292622, 316199, 345094, 301200, 305590, 322610, 341313, 379351, 379858, 344646, 348190, 359463, 363037, 359595, 397434, 389986, 333669, 371945, 362507, 367423, 375954, 407414, 404897, 348498, 385727, 378272, 384635, 376829, 416951, 409931, 353121, 385030, 410990, 426985, 422797, 486469, 459906, 400843, 434476, 429750, 431314, 448520, 501046, 489902, 432160, 436732, 426164, 438065, 452333, 509035, 466061, 384115, 478923, 439117, 499767, 482871, 519936, 521912, 457953, 473653, 465849, 475934, 587661, 520138, 457045, 443686, 499124, 424377, 425345, 491228, 552207, 460425, 407371, 429524]}],\n",
       "                        {\"font\": {\"color\": \"#7f7f7f\", \"family\": \"Courier New, monospace\", \"size\": 18}, \"template\": {\"data\": {\"bar\": [{\"error_x\": {\"color\": \"#2a3f5f\"}, \"error_y\": {\"color\": \"#2a3f5f\"}, \"marker\": {\"line\": {\"color\": \"#E5ECF6\", \"width\": 0.5}}, \"type\": \"bar\"}], \"barpolar\": [{\"marker\": {\"line\": {\"color\": \"#E5ECF6\", \"width\": 0.5}}, \"type\": \"barpolar\"}], \"carpet\": [{\"aaxis\": {\"endlinecolor\": \"#2a3f5f\", \"gridcolor\": \"white\", \"linecolor\": \"white\", \"minorgridcolor\": \"white\", \"startlinecolor\": \"#2a3f5f\"}, \"baxis\": {\"endlinecolor\": \"#2a3f5f\", \"gridcolor\": \"white\", \"linecolor\": \"white\", \"minorgridcolor\": \"white\", \"startlinecolor\": \"#2a3f5f\"}, \"type\": \"carpet\"}], \"choropleth\": [{\"colorbar\": {\"outlinewidth\": 0, \"ticks\": \"\"}, \"type\": \"choropleth\"}], \"contour\": [{\"colorbar\": {\"outlinewidth\": 0, \"ticks\": \"\"}, \"colorscale\": [[0.0, \"#0d0887\"], [0.1111111111111111, \"#46039f\"], [0.2222222222222222, \"#7201a8\"], [0.3333333333333333, \"#9c179e\"], [0.4444444444444444, \"#bd3786\"], [0.5555555555555556, \"#d8576b\"], [0.6666666666666666, \"#ed7953\"], [0.7777777777777778, \"#fb9f3a\"], [0.8888888888888888, \"#fdca26\"], [1.0, \"#f0f921\"]], \"type\": \"contour\"}], \"contourcarpet\": [{\"colorbar\": {\"outlinewidth\": 0, \"ticks\": \"\"}, \"type\": \"contourcarpet\"}], \"heatmap\": [{\"colorbar\": {\"outlinewidth\": 0, \"ticks\": \"\"}, \"colorscale\": [[0.0, \"#0d0887\"], [0.1111111111111111, \"#46039f\"], [0.2222222222222222, \"#7201a8\"], [0.3333333333333333, \"#9c179e\"], [0.4444444444444444, \"#bd3786\"], [0.5555555555555556, \"#d8576b\"], [0.6666666666666666, \"#ed7953\"], [0.7777777777777778, \"#fb9f3a\"], [0.8888888888888888, \"#fdca26\"], [1.0, \"#f0f921\"]], \"type\": \"heatmap\"}], \"heatmapgl\": [{\"colorbar\": {\"outlinewidth\": 0, \"ticks\": \"\"}, \"colorscale\": [[0.0, \"#0d0887\"], [0.1111111111111111, \"#46039f\"], [0.2222222222222222, \"#7201a8\"], [0.3333333333333333, \"#9c179e\"], [0.4444444444444444, \"#bd3786\"], [0.5555555555555556, \"#d8576b\"], [0.6666666666666666, \"#ed7953\"], [0.7777777777777778, \"#fb9f3a\"], [0.8888888888888888, \"#fdca26\"], [1.0, \"#f0f921\"]], \"type\": \"heatmapgl\"}], \"histogram\": [{\"marker\": {\"colorbar\": {\"outlinewidth\": 0, \"ticks\": \"\"}}, \"type\": \"histogram\"}], \"histogram2d\": [{\"colorbar\": {\"outlinewidth\": 0, \"ticks\": \"\"}, \"colorscale\": [[0.0, \"#0d0887\"], [0.1111111111111111, \"#46039f\"], [0.2222222222222222, \"#7201a8\"], [0.3333333333333333, \"#9c179e\"], [0.4444444444444444, \"#bd3786\"], [0.5555555555555556, \"#d8576b\"], [0.6666666666666666, \"#ed7953\"], [0.7777777777777778, \"#fb9f3a\"], [0.8888888888888888, \"#fdca26\"], [1.0, \"#f0f921\"]], \"type\": \"histogram2d\"}], \"histogram2dcontour\": [{\"colorbar\": {\"outlinewidth\": 0, \"ticks\": \"\"}, \"colorscale\": [[0.0, \"#0d0887\"], [0.1111111111111111, \"#46039f\"], [0.2222222222222222, \"#7201a8\"], [0.3333333333333333, \"#9c179e\"], [0.4444444444444444, \"#bd3786\"], [0.5555555555555556, \"#d8576b\"], [0.6666666666666666, \"#ed7953\"], [0.7777777777777778, \"#fb9f3a\"], [0.8888888888888888, \"#fdca26\"], [1.0, \"#f0f921\"]], \"type\": \"histogram2dcontour\"}], \"mesh3d\": [{\"colorbar\": {\"outlinewidth\": 0, \"ticks\": \"\"}, \"type\": \"mesh3d\"}], \"parcoords\": [{\"line\": {\"colorbar\": {\"outlinewidth\": 0, \"ticks\": \"\"}}, \"type\": \"parcoords\"}], \"pie\": [{\"automargin\": true, \"type\": \"pie\"}], \"scatter\": [{\"marker\": {\"colorbar\": {\"outlinewidth\": 0, \"ticks\": \"\"}}, \"type\": \"scatter\"}], \"scatter3d\": [{\"line\": {\"colorbar\": {\"outlinewidth\": 0, \"ticks\": \"\"}}, \"marker\": {\"colorbar\": {\"outlinewidth\": 0, \"ticks\": \"\"}}, \"type\": \"scatter3d\"}], \"scattercarpet\": [{\"marker\": {\"colorbar\": {\"outlinewidth\": 0, \"ticks\": \"\"}}, \"type\": \"scattercarpet\"}], \"scattergeo\": [{\"marker\": {\"colorbar\": {\"outlinewidth\": 0, \"ticks\": \"\"}}, \"type\": \"scattergeo\"}], \"scattergl\": [{\"marker\": {\"colorbar\": {\"outlinewidth\": 0, \"ticks\": \"\"}}, \"type\": \"scattergl\"}], \"scattermapbox\": [{\"marker\": {\"colorbar\": {\"outlinewidth\": 0, \"ticks\": \"\"}}, \"type\": \"scattermapbox\"}], \"scatterpolar\": [{\"marker\": {\"colorbar\": {\"outlinewidth\": 0, \"ticks\": \"\"}}, \"type\": \"scatterpolar\"}], \"scatterpolargl\": [{\"marker\": {\"colorbar\": {\"outlinewidth\": 0, \"ticks\": \"\"}}, \"type\": \"scatterpolargl\"}], \"scatterternary\": [{\"marker\": {\"colorbar\": {\"outlinewidth\": 0, \"ticks\": \"\"}}, \"type\": \"scatterternary\"}], \"surface\": [{\"colorbar\": {\"outlinewidth\": 0, \"ticks\": \"\"}, \"colorscale\": [[0.0, \"#0d0887\"], [0.1111111111111111, \"#46039f\"], [0.2222222222222222, \"#7201a8\"], [0.3333333333333333, \"#9c179e\"], [0.4444444444444444, \"#bd3786\"], [0.5555555555555556, \"#d8576b\"], [0.6666666666666666, \"#ed7953\"], [0.7777777777777778, \"#fb9f3a\"], [0.8888888888888888, \"#fdca26\"], [1.0, \"#f0f921\"]], \"type\": \"surface\"}], \"table\": [{\"cells\": {\"fill\": {\"color\": \"#EBF0F8\"}, \"line\": {\"color\": \"white\"}}, \"header\": {\"fill\": {\"color\": \"#C8D4E3\"}, \"line\": {\"color\": \"white\"}}, \"type\": \"table\"}]}, \"layout\": {\"annotationdefaults\": {\"arrowcolor\": \"#2a3f5f\", \"arrowhead\": 0, \"arrowwidth\": 1}, \"coloraxis\": {\"colorbar\": {\"outlinewidth\": 0, \"ticks\": \"\"}}, \"colorscale\": {\"diverging\": [[0, \"#8e0152\"], [0.1, \"#c51b7d\"], [0.2, \"#de77ae\"], [0.3, \"#f1b6da\"], [0.4, \"#fde0ef\"], [0.5, \"#f7f7f7\"], [0.6, \"#e6f5d0\"], [0.7, \"#b8e186\"], [0.8, \"#7fbc41\"], [0.9, \"#4d9221\"], [1, \"#276419\"]], \"sequential\": [[0.0, \"#0d0887\"], [0.1111111111111111, \"#46039f\"], [0.2222222222222222, \"#7201a8\"], [0.3333333333333333, \"#9c179e\"], [0.4444444444444444, \"#bd3786\"], [0.5555555555555556, \"#d8576b\"], [0.6666666666666666, \"#ed7953\"], [0.7777777777777778, \"#fb9f3a\"], [0.8888888888888888, \"#fdca26\"], [1.0, \"#f0f921\"]], \"sequentialminus\": [[0.0, \"#0d0887\"], [0.1111111111111111, \"#46039f\"], [0.2222222222222222, \"#7201a8\"], [0.3333333333333333, \"#9c179e\"], [0.4444444444444444, \"#bd3786\"], [0.5555555555555556, \"#d8576b\"], [0.6666666666666666, \"#ed7953\"], [0.7777777777777778, \"#fb9f3a\"], [0.8888888888888888, \"#fdca26\"], [1.0, \"#f0f921\"]]}, \"colorway\": [\"#636efa\", \"#EF553B\", \"#00cc96\", \"#ab63fa\", \"#FFA15A\", \"#19d3f3\", \"#FF6692\", \"#B6E880\", \"#FF97FF\", \"#FECB52\"], \"font\": {\"color\": \"#2a3f5f\"}, \"geo\": {\"bgcolor\": \"white\", \"lakecolor\": \"white\", \"landcolor\": \"#E5ECF6\", \"showlakes\": true, \"showland\": true, \"subunitcolor\": \"white\"}, \"hoverlabel\": {\"align\": \"left\"}, \"hovermode\": \"closest\", \"mapbox\": {\"style\": \"light\"}, \"paper_bgcolor\": \"white\", \"plot_bgcolor\": \"#E5ECF6\", \"polar\": {\"angularaxis\": {\"gridcolor\": \"white\", \"linecolor\": \"white\", \"ticks\": \"\"}, \"bgcolor\": \"#E5ECF6\", \"radialaxis\": {\"gridcolor\": \"white\", \"linecolor\": \"white\", \"ticks\": \"\"}}, \"scene\": {\"xaxis\": {\"backgroundcolor\": \"#E5ECF6\", \"gridcolor\": \"white\", \"gridwidth\": 2, \"linecolor\": \"white\", \"showbackground\": true, \"ticks\": \"\", \"zerolinecolor\": \"white\"}, \"yaxis\": {\"backgroundcolor\": \"#E5ECF6\", \"gridcolor\": \"white\", \"gridwidth\": 2, \"linecolor\": \"white\", \"showbackground\": true, \"ticks\": \"\", \"zerolinecolor\": \"white\"}, \"zaxis\": {\"backgroundcolor\": \"#E5ECF6\", \"gridcolor\": \"white\", \"gridwidth\": 2, \"linecolor\": \"white\", \"showbackground\": true, \"ticks\": \"\", \"zerolinecolor\": \"white\"}}, \"shapedefaults\": {\"line\": {\"color\": \"#2a3f5f\"}}, \"ternary\": {\"aaxis\": {\"gridcolor\": \"white\", \"linecolor\": \"white\", \"ticks\": \"\"}, \"baxis\": {\"gridcolor\": \"white\", \"linecolor\": \"white\", \"ticks\": \"\"}, \"bgcolor\": \"#E5ECF6\", \"caxis\": {\"gridcolor\": \"white\", \"linecolor\": \"white\", \"ticks\": \"\"}}, \"title\": {\"x\": 0.05}, \"xaxis\": {\"automargin\": true, \"gridcolor\": \"white\", \"linecolor\": \"white\", \"ticks\": \"\", \"title\": {\"standoff\": 15}, \"zerolinecolor\": \"white\", \"zerolinewidth\": 2}, \"yaxis\": {\"automargin\": true, \"gridcolor\": \"white\", \"linecolor\": \"white\", \"ticks\": \"\", \"title\": {\"standoff\": 15}, \"zerolinecolor\": \"white\", \"zerolinewidth\": 2}}}, \"title\": {\"text\": \"Distribution of puchases over days\"}, \"xaxis\": {\"title\": {\"text\": \"Days\"}}, \"yaxis\": {\"title\": {\"text\": \"Number of transactions\"}}},\n",
       "                        {\"responsive\": true}\n",
       "                    ).then(function(){\n",
       "                            \n",
       "var gd = document.getElementById('162da43a-8333-45af-9dc9-13672f3a0b15');\n",
       "var x = new MutationObserver(function (mutations, observer) {{\n",
       "        var display = window.getComputedStyle(gd).display;\n",
       "        if (!display || display === 'none') {{\n",
       "            console.log([gd, 'removed!']);\n",
       "            Plotly.purge(gd);\n",
       "            observer.disconnect();\n",
       "        }}\n",
       "}});\n",
       "\n",
       "// Listen for the removal of the full notebook cells\n",
       "var notebookContainer = gd.closest('#notebook-container');\n",
       "if (notebookContainer) {{\n",
       "    x.observe(notebookContainer, {childList: true});\n",
       "}}\n",
       "\n",
       "// Listen for the clearing of the current output cell\n",
       "var outputEl = gd.closest('.output');\n",
       "if (outputEl) {{\n",
       "    x.observe(outputEl, {childList: true});\n",
       "}}\n",
       "\n",
       "                        })\n",
       "                };\n",
       "                });\n",
       "            </script>\n",
       "        </div>"
      ]
     },
     "metadata": {},
     "output_type": "display_data"
    }
   ],
   "source": [
    "import plotly.graph_objects as go\n",
    "\n",
    "fig = go.Figure([go.Bar(y=count_tr_per_day.values,\n",
    "                 x=count_tr_per_day.index)])\n",
    "fig.update_layout(\n",
    "    title=\"Distribution of puchases over days\",\n",
    "    xaxis_title=\"Days\",\n",
    "    yaxis_title=\"Number of transactions\",\n",
    "    font=dict(\n",
    "        family=\"Courier New, monospace\",\n",
    "        size=18,\n",
    "        color=\"#7f7f7f\"\n",
    "    )\n",
    ")\n",
    "fig.show()"
   ]
  },
  {
   "cell_type": "code",
   "execution_count": 74,
   "metadata": {
    "ExecuteTime": {
     "end_time": "2020-02-05T20:26:32.048261Z",
     "start_time": "2020-02-05T20:26:31.850838Z"
    },
    "hidden": true
   },
   "outputs": [
    {
     "data": {
      "image/png": "[encoded data removed]",
      "text/plain": [
       "<Figure size 432x288 with 1 Axes>"
      ]
     },
     "metadata": {
      "needs_background": "light"
     },
     "output_type": "display_data"
    }
   ],
   "source": [
    "sns.distplot(count_tr_per_day[count_tr_per_day > 10e4]);\n",
    "plt.xlabel(\"Number of purchases\")\n",
    "plt.title(\"Count of purchases per days\");"
   ]
  },
  {
   "cell_type": "code",
   "execution_count": 35,
   "metadata": {
    "ExecuteTime": {
     "end_time": "2020-02-05T20:09:52.403485Z",
     "start_time": "2020-02-05T20:09:52.393952Z"
    },
    "hidden": true
   },
   "outputs": [
    {
     "data": {
      "text/plain": [
       "count       118.000000\n",
       "mean     388021.762712\n",
       "std       82111.531981\n",
       "min         190.000000\n",
       "25%      340538.250000\n",
       "50%      379358.500000\n",
       "75%      436168.000000\n",
       "max      621704.000000\n",
       "Name: client_id, dtype: float64"
      ]
     },
     "execution_count": 35,
     "metadata": {},
     "output_type": "execute_result"
    }
   ],
   "source": [
    "count_tr_per_day.describe()"
   ]
  },
  {
   "cell_type": "code",
   "execution_count": 96,
   "metadata": {
    "ExecuteTime": {
     "end_time": "2020-02-05T20:33:18.825327Z",
     "start_time": "2020-02-05T20:33:18.818020Z"
    },
    "hidden": true
   },
   "outputs": [
    {
     "data": {
      "text/plain": [
       "transaction_datetime\n",
       "2018-12-30    False\n",
       "Name: client_id, dtype: bool"
      ]
     },
     "execution_count": 96,
     "metadata": {},
     "output_type": "execute_result"
    }
   ],
   "source": [
    "# check for deviation more than 3 std\n",
    "388021.762712 + (3 * 82111.531981) < count_tr_per_day[count_tr_per_day.index == pd.to_datetime('2018-12-30')]"
   ]
  },
  {
   "cell_type": "code",
   "execution_count": 497,
   "metadata": {
    "ExecuteTime": {
     "end_time": "2020-02-04T13:53:37.332888Z",
     "start_time": "2020-02-04T13:53:33.675041Z"
    },
    "hidden": true
   },
   "outputs": [
    {
     "data": {
      "text/plain": [
       "(338156, 400162)"
      ]
     },
     "execution_count": 497,
     "metadata": {},
     "output_type": "execute_result"
    }
   ],
   "source": [
    "old_clients = set(purchases.df[purchases.df['transaction_datetime'].dt.year == 2018]['client_id'].values)\n",
    "len(old_clients), clients.df.shape[0]"
   ]
  },
  {
   "cell_type": "code",
   "execution_count": 499,
   "metadata": {
    "ExecuteTime": {
     "end_time": "2020-02-04T13:53:49.390233Z",
     "start_time": "2020-02-04T13:53:43.229893Z"
    },
    "hidden": true
   },
   "outputs": [
    {
     "data": {
      "text/plain": [
       "338156"
      ]
     },
     "execution_count": 499,
     "metadata": {},
     "output_type": "execute_result"
    }
   ],
   "source": [
    "proved_clients = old_clients.intersection(set(purchases.df[purchases.df['transaction_datetime'].dt.year == 2019]['client_id'].values))\n",
    "len(proved_clients)"
   ]
  },
  {
   "cell_type": "markdown",
   "metadata": {
    "ExecuteTime": {
     "end_time": "2020-02-04T11:48:26.285461Z",
     "start_time": "2020-02-04T11:48:14.717232Z"
    },
    "hidden": true
   },
   "source": [
    "all clients that have transactions in 2018 are still loyal at 2019"
   ]
  },
  {
   "cell_type": "code",
   "execution_count": 514,
   "metadata": {
    "ExecuteTime": {
     "end_time": "2020-02-04T14:09:50.845427Z",
     "start_time": "2020-02-04T14:09:48.070332Z"
    },
    "hidden": true
   },
   "outputs": [
    {
     "data": {
      "text/plain": [
       "0"
      ]
     },
     "execution_count": 514,
     "metadata": {},
     "output_type": "execute_result"
    }
   ],
   "source": [
    "# clients without purchases for last 2 month\n",
    "sum(purchases.df.groupby('client_id')['transaction_datetime'].max() < '2019-01-18')"
   ]
  },
  {
   "cell_type": "markdown",
   "metadata": {
    "hidden": true
   },
   "source": [
    "all clients are regular customers"
   ]
  },
  {
   "cell_type": "code",
   "execution_count": 530,
   "metadata": {
    "ExecuteTime": {
     "end_time": "2020-02-04T14:23:55.059338Z",
     "start_time": "2020-02-04T14:23:52.280899Z"
    },
    "hidden": true
   },
   "outputs": [
    {
     "data": {
      "text/plain": [
       "4994"
      ]
     },
     "execution_count": 530,
     "metadata": {},
     "output_type": "execute_result"
    }
   ],
   "source": [
    "sleeping_clients = clients.df[purchases.df.groupby('client_id')['transaction_datetime']\\\n",
    "                              .max() < '2019-02-26'].index.to_list()\n",
    "len(sleeping_clients)"
   ]
  },
  {
   "cell_type": "markdown",
   "metadata": {
    "ExecuteTime": {
     "end_time": "2020-02-04T14:23:48.059218Z",
     "start_time": "2020-02-04T14:23:48.053280Z"
    },
    "hidden": true
   },
   "source": [
    "## First conclusions"
   ]
  },
  {
   "cell_type": "markdown",
   "metadata": {
    "hidden": true
   },
   "source": [
    "<ul>\n",
    "    <li>All clients are loyal and there is no need to clean them. In case of emergency we could cluster them for sleeping/active</li>\n",
    "    <li>Distribution of transactions over time(days) is similar. But looks suspiciously that on 14 February there was so many transactions, but no of top 15 products was alcohol. And, by the way, that was Thursday. Things to explore -> distribution over weekends and cluster customers that by products that time. Cluster time of day in transactions.</li>\n",
    "    <li>We have outlier in day 2018-12-30. Let`s take a look what will be, if we drop transactions by this day</li>\n",
    "</ul>"
   ]
  },
  {
   "cell_type": "code",
   "execution_count": null,
   "metadata": {
    "hidden": true
   },
   "outputs": [],
   "source": []
  },
  {
   "cell_type": "code",
   "execution_count": null,
   "metadata": {
    "hidden": true
   },
   "outputs": [],
   "source": []
  },
  {
   "cell_type": "markdown",
   "metadata": {},
   "source": [
    "# Aggregative features"
   ]
  },
  {
   "cell_type": "code",
   "execution_count": 139,
   "metadata": {
    "ExecuteTime": {
     "end_time": "2020-02-05T22:19:01.295858Z",
     "start_time": "2020-02-05T22:17:31.877071Z"
    },
    "scrolled": true
   },
   "outputs": [
    {
     "data": {
      "text/html": [
       "<div>\n",
       "<style scoped>\n",
       "    .dataframe tbody tr th:only-of-type {\n",
       "        vertical-align: middle;\n",
       "    }\n",
       "\n",
       "    .dataframe tbody tr th {\n",
       "        vertical-align: top;\n",
       "    }\n",
       "\n",
       "    .dataframe thead th {\n",
       "        text-align: right;\n",
       "    }\n",
       "</style>\n",
       "<table border=\"1\" class=\"dataframe\">\n",
       "  <thead>\n",
       "    <tr style=\"text-align: right;\">\n",
       "      <th></th>\n",
       "      <th></th>\n",
       "      <th>regular_points_received</th>\n",
       "      <th>express_points_received</th>\n",
       "      <th>regular_points_spent</th>\n",
       "      <th>express_points_spent</th>\n",
       "      <th>store_id</th>\n",
       "      <th>product_quantity</th>\n",
       "      <th>purchase_sum</th>\n",
       "    </tr>\n",
       "    <tr>\n",
       "      <th>client_id</th>\n",
       "      <th>transaction_id</th>\n",
       "      <th></th>\n",
       "      <th></th>\n",
       "      <th></th>\n",
       "      <th></th>\n",
       "      <th></th>\n",
       "      <th></th>\n",
       "      <th></th>\n",
       "    </tr>\n",
       "  </thead>\n",
       "  <tbody>\n",
       "    <tr>\n",
       "      <td rowspan=\"2\" valign=\"top\">000012768d</td>\n",
       "      <td>6a0e96d0bc</td>\n",
       "      <td>8.0</td>\n",
       "      <td>0.0</td>\n",
       "      <td>0.0</td>\n",
       "      <td>0.0</td>\n",
       "      <td>017c89b915</td>\n",
       "      <td>1.0</td>\n",
       "      <td>803.0</td>\n",
       "    </tr>\n",
       "    <tr>\n",
       "      <td>b34f23306e</td>\n",
       "      <td>2.0</td>\n",
       "      <td>0.0</td>\n",
       "      <td>0.0</td>\n",
       "      <td>0.0</td>\n",
       "      <td>017c89b915</td>\n",
       "      <td>1.0</td>\n",
       "      <td>419.0</td>\n",
       "    </tr>\n",
       "    <tr>\n",
       "      <td rowspan=\"6\" valign=\"top\">000036f903</td>\n",
       "      <td>2e83f51925</td>\n",
       "      <td>2.1</td>\n",
       "      <td>0.0</td>\n",
       "      <td>0.0</td>\n",
       "      <td>0.0</td>\n",
       "      <td>465a702399</td>\n",
       "      <td>1.0</td>\n",
       "      <td>431.0</td>\n",
       "    </tr>\n",
       "    <tr>\n",
       "      <td>46785fbddc</td>\n",
       "      <td>1.3</td>\n",
       "      <td>0.0</td>\n",
       "      <td>0.0</td>\n",
       "      <td>0.0</td>\n",
       "      <td>3c6c3b17f2</td>\n",
       "      <td>1.0</td>\n",
       "      <td>268.0</td>\n",
       "    </tr>\n",
       "    <tr>\n",
       "      <td>7bc561c52e</td>\n",
       "      <td>2.4</td>\n",
       "      <td>0.0</td>\n",
       "      <td>0.0</td>\n",
       "      <td>0.0</td>\n",
       "      <td>6381a55c22</td>\n",
       "      <td>1.0</td>\n",
       "      <td>460.0</td>\n",
       "    </tr>\n",
       "    <tr>\n",
       "      <td>8203af0a90</td>\n",
       "      <td>2.5</td>\n",
       "      <td>0.0</td>\n",
       "      <td>0.0</td>\n",
       "      <td>0.0</td>\n",
       "      <td>6381a55c22</td>\n",
       "      <td>1.0</td>\n",
       "      <td>506.0</td>\n",
       "    </tr>\n",
       "    <tr>\n",
       "      <td>9884d05413</td>\n",
       "      <td>1.2</td>\n",
       "      <td>0.0</td>\n",
       "      <td>0.0</td>\n",
       "      <td>0.0</td>\n",
       "      <td>6381a55c22</td>\n",
       "      <td>0.0</td>\n",
       "      <td>243.0</td>\n",
       "    </tr>\n",
       "    <tr>\n",
       "      <td>b898a018b5</td>\n",
       "      <td>0.4</td>\n",
       "      <td>0.0</td>\n",
       "      <td>0.0</td>\n",
       "      <td>0.0</td>\n",
       "      <td>6381a55c22</td>\n",
       "      <td>1.0</td>\n",
       "      <td>93.0</td>\n",
       "    </tr>\n",
       "  </tbody>\n",
       "</table>\n",
       "</div>"
      ],
      "text/plain": [
       "                           regular_points_received  express_points_received  \\\n",
       "client_id  transaction_id                                                     \n",
       "000012768d 6a0e96d0bc                          8.0                      0.0   \n",
       "           b34f23306e                          2.0                      0.0   \n",
       "000036f903 2e83f51925                          2.1                      0.0   \n",
       "           46785fbddc                          1.3                      0.0   \n",
       "           7bc561c52e                          2.4                      0.0   \n",
       "           8203af0a90                          2.5                      0.0   \n",
       "           9884d05413                          1.2                      0.0   \n",
       "           b898a018b5                          0.4                      0.0   \n",
       "\n",
       "                           regular_points_spent  express_points_spent  \\\n",
       "client_id  transaction_id                                               \n",
       "000012768d 6a0e96d0bc                       0.0                   0.0   \n",
       "           b34f23306e                       0.0                   0.0   \n",
       "000036f903 2e83f51925                       0.0                   0.0   \n",
       "           46785fbddc                       0.0                   0.0   \n",
       "           7bc561c52e                       0.0                   0.0   \n",
       "           8203af0a90                       0.0                   0.0   \n",
       "           9884d05413                       0.0                   0.0   \n",
       "           b898a018b5                       0.0                   0.0   \n",
       "\n",
       "                             store_id  product_quantity  purchase_sum  \n",
       "client_id  transaction_id                                              \n",
       "000012768d 6a0e96d0bc      017c89b915               1.0         803.0  \n",
       "           b34f23306e      017c89b915               1.0         419.0  \n",
       "000036f903 2e83f51925      465a702399               1.0         431.0  \n",
       "           46785fbddc      3c6c3b17f2               1.0         268.0  \n",
       "           7bc561c52e      6381a55c22               1.0         460.0  \n",
       "           8203af0a90      6381a55c22               1.0         506.0  \n",
       "           9884d05413      6381a55c22               0.0         243.0  \n",
       "           b898a018b5      6381a55c22               1.0          93.0  "
      ]
     },
     "execution_count": 139,
     "metadata": {},
     "output_type": "execute_result"
    }
   ],
   "source": [
    "inspected_columns = ['regular_points_received', 'express_points_received',\n",
    "                                 'regular_points_spent', 'express_points_spent', \n",
    "                                 'store_id', 'product_quantity', 'purchase_sum']\n",
    "\n",
    "all_time = purchases.df.groupby(['client_id', 'transaction_id'])[inspected_columns].last()\n",
    "last_month = purchases.df[purchases.df['transaction_datetime'] > '2019-02-18'].groupby\\\n",
    "                (['client_id', 'transaction_id'])[inspected_columns].last()\n",
    "last_month.head(8)"
   ]
  },
  {
   "cell_type": "code",
   "execution_count": 117,
   "metadata": {
    "ExecuteTime": {
     "end_time": "2020-02-05T21:19:33.178105Z",
     "start_time": "2020-02-05T21:19:33.173495Z"
    }
   },
   "outputs": [
    {
     "data": {
      "text/plain": [
       "(pandas.core.frame.DataFrame, pandas.core.frame.DataFrame)"
      ]
     },
     "execution_count": 117,
     "metadata": {},
     "output_type": "execute_result"
    }
   ],
   "source": [
    "type(last_month), type(all_time)"
   ]
  },
  {
   "cell_type": "markdown",
   "metadata": {},
   "source": [
    "## Simple features"
   ]
  },
  {
   "cell_type": "code",
   "execution_count": 127,
   "metadata": {
    "ExecuteTime": {
     "end_time": "2020-02-05T21:30:02.932718Z",
     "start_time": "2020-02-05T21:30:02.085005Z"
    }
   },
   "outputs": [
    {
     "data": {
      "text/html": [
       "<div>\n",
       "<style scoped>\n",
       "    .dataframe tbody tr th:only-of-type {\n",
       "        vertical-align: middle;\n",
       "    }\n",
       "\n",
       "    .dataframe tbody tr th {\n",
       "        vertical-align: top;\n",
       "    }\n",
       "\n",
       "    .dataframe thead th {\n",
       "        text-align: right;\n",
       "    }\n",
       "</style>\n",
       "<table border=\"1\" class=\"dataframe\">\n",
       "  <thead>\n",
       "    <tr style=\"text-align: right;\">\n",
       "      <th></th>\n",
       "      <th>regular_points_received</th>\n",
       "      <th>express_points_received</th>\n",
       "      <th>regular_points_spent</th>\n",
       "      <th>express_points_spent</th>\n",
       "      <th>product_quantity</th>\n",
       "      <th>purchase_sum</th>\n",
       "    </tr>\n",
       "    <tr>\n",
       "      <th>client_id</th>\n",
       "      <th></th>\n",
       "      <th></th>\n",
       "      <th></th>\n",
       "      <th></th>\n",
       "      <th></th>\n",
       "      <th></th>\n",
       "    </tr>\n",
       "  </thead>\n",
       "  <tbody>\n",
       "    <tr>\n",
       "      <td>000012768d</td>\n",
       "      <td>25.700001</td>\n",
       "      <td>0.0</td>\n",
       "      <td>0.0</td>\n",
       "      <td>0.0</td>\n",
       "      <td>4.0</td>\n",
       "      <td>2803.0</td>\n",
       "    </tr>\n",
       "    <tr>\n",
       "      <td>000036f903</td>\n",
       "      <td>54.900002</td>\n",
       "      <td>60.0</td>\n",
       "      <td>0.0</td>\n",
       "      <td>0.0</td>\n",
       "      <td>32.0</td>\n",
       "      <td>9805.0</td>\n",
       "    </tr>\n",
       "    <tr>\n",
       "      <td>000048b7a6</td>\n",
       "      <td>26.500000</td>\n",
       "      <td>0.0</td>\n",
       "      <td>0.0</td>\n",
       "      <td>0.0</td>\n",
       "      <td>11.0</td>\n",
       "      <td>3772.0</td>\n",
       "    </tr>\n",
       "  </tbody>\n",
       "</table>\n",
       "</div>"
      ],
      "text/plain": [
       "            regular_points_received  express_points_received  \\\n",
       "client_id                                                      \n",
       "000012768d                25.700001                      0.0   \n",
       "000036f903                54.900002                     60.0   \n",
       "000048b7a6                26.500000                      0.0   \n",
       "\n",
       "            regular_points_spent  express_points_spent  product_quantity  \\\n",
       "client_id                                                                  \n",
       "000012768d                   0.0                   0.0               4.0   \n",
       "000036f903                   0.0                   0.0              32.0   \n",
       "000048b7a6                   0.0                   0.0              11.0   \n",
       "\n",
       "            purchase_sum  \n",
       "client_id                 \n",
       "000012768d        2803.0  \n",
       "000036f903        9805.0  \n",
       "000048b7a6        3772.0  "
      ]
     },
     "execution_count": 127,
     "metadata": {},
     "output_type": "execute_result"
    }
   ],
   "source": [
    "total_sum = all_time.groupby('client_id').sum()\n",
    "total_sum_last = last_month.groupby('client_id').sum()\n",
    "total_sum.head(3)\n",
    "# total_sum_last.head(3)"
   ]
  },
  {
   "cell_type": "code",
   "execution_count": 128,
   "metadata": {
    "ExecuteTime": {
     "end_time": "2020-02-05T21:30:47.931645Z",
     "start_time": "2020-02-05T21:30:47.435644Z"
    }
   },
   "outputs": [
    {
     "name": "stdout",
     "output_type": "stream",
     "text": [
      "client_id\n",
      "000012768d     4\n",
      "000036f903    32\n",
      "000048b7a6     8\n",
      "Name: purchase_sum, dtype: int64\n",
      "client_id\n",
      "000012768d    2\n",
      "000036f903    8\n",
      "000048b7a6    1\n",
      "Name: purchase_sum, dtype: int64\n"
     ]
    }
   ],
   "source": [
    "total_count = all_time.groupby('client_id')['purchase_sum'].count()\n",
    "total_count_last = last_month.groupby('client_id')['purchase_sum'].count()\n",
    "print(total_count.head(3))\n",
    "print(total_count_last.head(3))"
   ]
  },
  {
   "cell_type": "code",
   "execution_count": 129,
   "metadata": {
    "ExecuteTime": {
     "end_time": "2020-02-05T21:32:36.881455Z",
     "start_time": "2020-02-05T21:32:24.930096Z"
    }
   },
   "outputs": [
    {
     "data": {
      "text/plain": [
       "client_id\n",
       "000012768d    3\n",
       "000036f903    5\n",
       "000048b7a6    2\n",
       "Name: store_id, dtype: int64"
      ]
     },
     "execution_count": 129,
     "metadata": {},
     "output_type": "execute_result"
    }
   ],
   "source": [
    "nunique_stores = all_time.groupby('client_id')['store_id'].nunique()\n",
    "nunique_stores_last = last_month.groupby('client_id')['store_id'].nunique()\n",
    "nunique_stores.head(3)"
   ]
  },
  {
   "cell_type": "code",
   "execution_count": 130,
   "metadata": {
    "ExecuteTime": {
     "end_time": "2020-02-05T21:34:04.717640Z",
     "start_time": "2020-02-05T21:34:04.710341Z"
    }
   },
   "outputs": [
    {
     "data": {
      "text/plain": [
       "client_id\n",
       "000012768d    1\n",
       "000036f903    4\n",
       "000048b7a6    1\n",
       "Name: store_id, dtype: int64"
      ]
     },
     "execution_count": 130,
     "metadata": {},
     "output_type": "execute_result"
    }
   ],
   "source": [
    "nunique_stores_last.head(3)"
   ]
  },
  {
   "cell_type": "code",
   "execution_count": 146,
   "metadata": {
    "ExecuteTime": {
     "end_time": "2020-02-05T22:22:22.324871Z",
     "start_time": "2020-02-05T22:22:22.030158Z"
    }
   },
   "outputs": [
    {
     "data": {
      "text/html": [
       "<div>\n",
       "<style scoped>\n",
       "    .dataframe tbody tr th:only-of-type {\n",
       "        vertical-align: middle;\n",
       "    }\n",
       "\n",
       "    .dataframe tbody tr th {\n",
       "        vertical-align: top;\n",
       "    }\n",
       "\n",
       "    .dataframe thead th {\n",
       "        text-align: right;\n",
       "    }\n",
       "</style>\n",
       "<table border=\"1\" class=\"dataframe\">\n",
       "  <thead>\n",
       "    <tr style=\"text-align: right;\">\n",
       "      <th></th>\n",
       "      <th>purchase_sum</th>\n",
       "      <th>purchase_sum</th>\n",
       "      <th>regular_points_received</th>\n",
       "      <th>express_points_received</th>\n",
       "      <th>regular_points_spent</th>\n",
       "      <th>express_points_spent</th>\n",
       "      <th>product_quantity</th>\n",
       "      <th>purchase_sum</th>\n",
       "      <th>store_id</th>\n",
       "      <th>regular_points_received</th>\n",
       "      <th>express_points_received</th>\n",
       "      <th>regular_points_spent</th>\n",
       "      <th>express_points_spent</th>\n",
       "      <th>product_quantity</th>\n",
       "      <th>purchase_sum</th>\n",
       "      <th>store_id</th>\n",
       "    </tr>\n",
       "    <tr>\n",
       "      <th>client_id</th>\n",
       "      <th></th>\n",
       "      <th></th>\n",
       "      <th></th>\n",
       "      <th></th>\n",
       "      <th></th>\n",
       "      <th></th>\n",
       "      <th></th>\n",
       "      <th></th>\n",
       "      <th></th>\n",
       "      <th></th>\n",
       "      <th></th>\n",
       "      <th></th>\n",
       "      <th></th>\n",
       "      <th></th>\n",
       "      <th></th>\n",
       "      <th></th>\n",
       "    </tr>\n",
       "  </thead>\n",
       "  <tbody>\n",
       "    <tr>\n",
       "      <td>000012768d</td>\n",
       "      <td>4</td>\n",
       "      <td>2</td>\n",
       "      <td>25.700001</td>\n",
       "      <td>0.0</td>\n",
       "      <td>0.0</td>\n",
       "      <td>0.0</td>\n",
       "      <td>4.0</td>\n",
       "      <td>2803.000000</td>\n",
       "      <td>3</td>\n",
       "      <td>10.000000</td>\n",
       "      <td>0.0</td>\n",
       "      <td>0.0</td>\n",
       "      <td>0.0</td>\n",
       "      <td>2.0</td>\n",
       "      <td>1222.000000</td>\n",
       "      <td>1</td>\n",
       "    </tr>\n",
       "    <tr>\n",
       "      <td>000036f903</td>\n",
       "      <td>32</td>\n",
       "      <td>8</td>\n",
       "      <td>54.900002</td>\n",
       "      <td>60.0</td>\n",
       "      <td>0.0</td>\n",
       "      <td>0.0</td>\n",
       "      <td>32.0</td>\n",
       "      <td>9805.000000</td>\n",
       "      <td>5</td>\n",
       "      <td>13.700000</td>\n",
       "      <td>0.0</td>\n",
       "      <td>0.0</td>\n",
       "      <td>0.0</td>\n",
       "      <td>8.0</td>\n",
       "      <td>2784.000000</td>\n",
       "      <td>4</td>\n",
       "    </tr>\n",
       "    <tr>\n",
       "      <td>000048b7a6</td>\n",
       "      <td>8</td>\n",
       "      <td>1</td>\n",
       "      <td>26.500000</td>\n",
       "      <td>0.0</td>\n",
       "      <td>0.0</td>\n",
       "      <td>0.0</td>\n",
       "      <td>11.0</td>\n",
       "      <td>3772.000000</td>\n",
       "      <td>2</td>\n",
       "      <td>1.200000</td>\n",
       "      <td>0.0</td>\n",
       "      <td>0.0</td>\n",
       "      <td>0.0</td>\n",
       "      <td>2.0</td>\n",
       "      <td>342.000000</td>\n",
       "      <td>1</td>\n",
       "    </tr>\n",
       "    <tr>\n",
       "      <td>000073194a</td>\n",
       "      <td>17</td>\n",
       "      <td>6</td>\n",
       "      <td>74.900002</td>\n",
       "      <td>0.0</td>\n",
       "      <td>-96.0</td>\n",
       "      <td>0.0</td>\n",
       "      <td>27.0</td>\n",
       "      <td>9601.400391</td>\n",
       "      <td>1</td>\n",
       "      <td>25.000000</td>\n",
       "      <td>0.0</td>\n",
       "      <td>0.0</td>\n",
       "      <td>0.0</td>\n",
       "      <td>7.0</td>\n",
       "      <td>3393.300049</td>\n",
       "      <td>1</td>\n",
       "    </tr>\n",
       "    <tr>\n",
       "      <td>00007c7133</td>\n",
       "      <td>11</td>\n",
       "      <td>1</td>\n",
       "      <td>56.599998</td>\n",
       "      <td>0.0</td>\n",
       "      <td>-240.0</td>\n",
       "      <td>0.0</td>\n",
       "      <td>12.0</td>\n",
       "      <td>6719.839844</td>\n",
       "      <td>2</td>\n",
       "      <td>1.900000</td>\n",
       "      <td>0.0</td>\n",
       "      <td>0.0</td>\n",
       "      <td>0.0</td>\n",
       "      <td>1.0</td>\n",
       "      <td>380.000000</td>\n",
       "      <td>1</td>\n",
       "    </tr>\n",
       "    <tr>\n",
       "      <td>...</td>\n",
       "      <td>...</td>\n",
       "      <td>...</td>\n",
       "      <td>...</td>\n",
       "      <td>...</td>\n",
       "      <td>...</td>\n",
       "      <td>...</td>\n",
       "      <td>...</td>\n",
       "      <td>...</td>\n",
       "      <td>...</td>\n",
       "      <td>...</td>\n",
       "      <td>...</td>\n",
       "      <td>...</td>\n",
       "      <td>...</td>\n",
       "      <td>...</td>\n",
       "      <td>...</td>\n",
       "      <td>...</td>\n",
       "    </tr>\n",
       "    <tr>\n",
       "      <td>fffece623e</td>\n",
       "      <td>24</td>\n",
       "      <td>5</td>\n",
       "      <td>38.400002</td>\n",
       "      <td>0.0</td>\n",
       "      <td>-68.0</td>\n",
       "      <td>0.0</td>\n",
       "      <td>24.0</td>\n",
       "      <td>6530.010254</td>\n",
       "      <td>3</td>\n",
       "      <td>4.300000</td>\n",
       "      <td>0.0</td>\n",
       "      <td>0.0</td>\n",
       "      <td>0.0</td>\n",
       "      <td>5.0</td>\n",
       "      <td>917.820007</td>\n",
       "      <td>1</td>\n",
       "    </tr>\n",
       "    <tr>\n",
       "      <td>ffff3dfff8</td>\n",
       "      <td>17</td>\n",
       "      <td>5</td>\n",
       "      <td>117.900002</td>\n",
       "      <td>0.0</td>\n",
       "      <td>-182.0</td>\n",
       "      <td>0.0</td>\n",
       "      <td>23.0</td>\n",
       "      <td>7264.839844</td>\n",
       "      <td>1</td>\n",
       "      <td>16.200001</td>\n",
       "      <td>0.0</td>\n",
       "      <td>0.0</td>\n",
       "      <td>0.0</td>\n",
       "      <td>6.0</td>\n",
       "      <td>2149.340088</td>\n",
       "      <td>1</td>\n",
       "    </tr>\n",
       "    <tr>\n",
       "      <td>ffffaab9da</td>\n",
       "      <td>7</td>\n",
       "      <td>2</td>\n",
       "      <td>34.000000</td>\n",
       "      <td>0.0</td>\n",
       "      <td>-6.0</td>\n",
       "      <td>0.0</td>\n",
       "      <td>17.0</td>\n",
       "      <td>3791.000000</td>\n",
       "      <td>1</td>\n",
       "      <td>9.800000</td>\n",
       "      <td>0.0</td>\n",
       "      <td>0.0</td>\n",
       "      <td>0.0</td>\n",
       "      <td>7.0</td>\n",
       "      <td>1116.000000</td>\n",
       "      <td>1</td>\n",
       "    </tr>\n",
       "    <tr>\n",
       "      <td>ffffeb5619</td>\n",
       "      <td>7</td>\n",
       "      <td>6</td>\n",
       "      <td>117.500000</td>\n",
       "      <td>0.0</td>\n",
       "      <td>0.0</td>\n",
       "      <td>0.0</td>\n",
       "      <td>8.0</td>\n",
       "      <td>15226.219727</td>\n",
       "      <td>2</td>\n",
       "      <td>88.000000</td>\n",
       "      <td>0.0</td>\n",
       "      <td>0.0</td>\n",
       "      <td>0.0</td>\n",
       "      <td>7.0</td>\n",
       "      <td>11560.589844</td>\n",
       "      <td>2</td>\n",
       "    </tr>\n",
       "    <tr>\n",
       "      <td>fffff6ce77</td>\n",
       "      <td>32</td>\n",
       "      <td>10</td>\n",
       "      <td>221.300003</td>\n",
       "      <td>0.0</td>\n",
       "      <td>-302.0</td>\n",
       "      <td>0.0</td>\n",
       "      <td>43.0</td>\n",
       "      <td>18560.589844</td>\n",
       "      <td>3</td>\n",
       "      <td>27.299999</td>\n",
       "      <td>0.0</td>\n",
       "      <td>0.0</td>\n",
       "      <td>0.0</td>\n",
       "      <td>11.0</td>\n",
       "      <td>4433.000000</td>\n",
       "      <td>3</td>\n",
       "    </tr>\n",
       "  </tbody>\n",
       "</table>\n",
       "<p>400162 rows × 16 columns</p>\n",
       "</div>"
      ],
      "text/plain": [
       "            purchase_sum  purchase_sum  regular_points_received  \\\n",
       "client_id                                                         \n",
       "000012768d             4             2                25.700001   \n",
       "000036f903            32             8                54.900002   \n",
       "000048b7a6             8             1                26.500000   \n",
       "000073194a            17             6                74.900002   \n",
       "00007c7133            11             1                56.599998   \n",
       "...                  ...           ...                      ...   \n",
       "fffece623e            24             5                38.400002   \n",
       "ffff3dfff8            17             5               117.900002   \n",
       "ffffaab9da             7             2                34.000000   \n",
       "ffffeb5619             7             6               117.500000   \n",
       "fffff6ce77            32            10               221.300003   \n",
       "\n",
       "            express_points_received  regular_points_spent  \\\n",
       "client_id                                                   \n",
       "000012768d                      0.0                   0.0   \n",
       "000036f903                     60.0                   0.0   \n",
       "000048b7a6                      0.0                   0.0   \n",
       "000073194a                      0.0                 -96.0   \n",
       "00007c7133                      0.0                -240.0   \n",
       "...                             ...                   ...   \n",
       "fffece623e                      0.0                 -68.0   \n",
       "ffff3dfff8                      0.0                -182.0   \n",
       "ffffaab9da                      0.0                  -6.0   \n",
       "ffffeb5619                      0.0                   0.0   \n",
       "fffff6ce77                      0.0                -302.0   \n",
       "\n",
       "            express_points_spent  product_quantity  purchase_sum  store_id  \\\n",
       "client_id                                                                    \n",
       "000012768d                   0.0               4.0   2803.000000         3   \n",
       "000036f903                   0.0              32.0   9805.000000         5   \n",
       "000048b7a6                   0.0              11.0   3772.000000         2   \n",
       "000073194a                   0.0              27.0   9601.400391         1   \n",
       "00007c7133                   0.0              12.0   6719.839844         2   \n",
       "...                          ...               ...           ...       ...   \n",
       "fffece623e                   0.0              24.0   6530.010254         3   \n",
       "ffff3dfff8                   0.0              23.0   7264.839844         1   \n",
       "ffffaab9da                   0.0              17.0   3791.000000         1   \n",
       "ffffeb5619                   0.0               8.0  15226.219727         2   \n",
       "fffff6ce77                   0.0              43.0  18560.589844         3   \n",
       "\n",
       "            regular_points_received  express_points_received  \\\n",
       "client_id                                                      \n",
       "000012768d                10.000000                      0.0   \n",
       "000036f903                13.700000                      0.0   \n",
       "000048b7a6                 1.200000                      0.0   \n",
       "000073194a                25.000000                      0.0   \n",
       "00007c7133                 1.900000                      0.0   \n",
       "...                             ...                      ...   \n",
       "fffece623e                 4.300000                      0.0   \n",
       "ffff3dfff8                16.200001                      0.0   \n",
       "ffffaab9da                 9.800000                      0.0   \n",
       "ffffeb5619                88.000000                      0.0   \n",
       "fffff6ce77                27.299999                      0.0   \n",
       "\n",
       "            regular_points_spent  express_points_spent  product_quantity  \\\n",
       "client_id                                                                  \n",
       "000012768d                   0.0                   0.0               2.0   \n",
       "000036f903                   0.0                   0.0               8.0   \n",
       "000048b7a6                   0.0                   0.0               2.0   \n",
       "000073194a                   0.0                   0.0               7.0   \n",
       "00007c7133                   0.0                   0.0               1.0   \n",
       "...                          ...                   ...               ...   \n",
       "fffece623e                   0.0                   0.0               5.0   \n",
       "ffff3dfff8                   0.0                   0.0               6.0   \n",
       "ffffaab9da                   0.0                   0.0               7.0   \n",
       "ffffeb5619                   0.0                   0.0               7.0   \n",
       "fffff6ce77                   0.0                   0.0              11.0   \n",
       "\n",
       "            purchase_sum  store_id  \n",
       "client_id                           \n",
       "000012768d   1222.000000         1  \n",
       "000036f903   2784.000000         4  \n",
       "000048b7a6    342.000000         1  \n",
       "000073194a   3393.300049         1  \n",
       "00007c7133    380.000000         1  \n",
       "...                  ...       ...  \n",
       "fffece623e    917.820007         1  \n",
       "ffff3dfff8   2149.340088         1  \n",
       "ffffaab9da   1116.000000         1  \n",
       "ffffeb5619  11560.589844         2  \n",
       "fffff6ce77   4433.000000         3  \n",
       "\n",
       "[400162 rows x 16 columns]"
      ]
     },
     "execution_count": 146,
     "metadata": {},
     "output_type": "execute_result"
    }
   ],
   "source": [
    "aggr = pd.concat([total_count, total_count_last, total_sum, nunique_stores, total_sum_last, nunique_stores_last], axis=1).set_index(clients.df.index)\n",
    "aggr"
   ]
  },
  {
   "cell_type": "code",
   "execution_count": 147,
   "metadata": {
    "ExecuteTime": {
     "end_time": "2020-02-05T22:22:26.708220Z",
     "start_time": "2020-02-05T22:22:26.540948Z"
    }
   },
   "outputs": [],
   "source": [
    "aggr.columns = ['total_trans_count','last_month_trans_count']\\\n",
    "                   + list(c+\"_sum_all\" for c in last_cols)\\\n",
    "                   +list(c+\"_sum_last_month\" for c in last_cols)\n",
    "aggr.to_pickle(os.path.join(PATH_TO_DATA, 'features.pkl'))"
   ]
  },
  {
   "cell_type": "code",
   "execution_count": 148,
   "metadata": {
    "ExecuteTime": {
     "end_time": "2020-02-05T22:22:27.771166Z",
     "start_time": "2020-02-05T22:22:27.753106Z"
    }
   },
   "outputs": [
    {
     "data": {
      "text/html": [
       "<div>\n",
       "<style scoped>\n",
       "    .dataframe tbody tr th:only-of-type {\n",
       "        vertical-align: middle;\n",
       "    }\n",
       "\n",
       "    .dataframe tbody tr th {\n",
       "        vertical-align: top;\n",
       "    }\n",
       "\n",
       "    .dataframe thead th {\n",
       "        text-align: right;\n",
       "    }\n",
       "</style>\n",
       "<table border=\"1\" class=\"dataframe\">\n",
       "  <thead>\n",
       "    <tr style=\"text-align: right;\">\n",
       "      <th></th>\n",
       "      <th>total_trans_count</th>\n",
       "      <th>last_month_trans_count</th>\n",
       "      <th>regular_points_received_sum_all</th>\n",
       "      <th>express_points_received_sum_all</th>\n",
       "      <th>regular_points_spent_sum_all</th>\n",
       "      <th>express_points_spent_sum_all</th>\n",
       "      <th>store_id_sum_all</th>\n",
       "      <th>product_quantity_sum_all</th>\n",
       "      <th>purchase_sum_sum_all</th>\n",
       "      <th>regular_points_received_sum_last_month</th>\n",
       "      <th>express_points_received_sum_last_month</th>\n",
       "      <th>regular_points_spent_sum_last_month</th>\n",
       "      <th>express_points_spent_sum_last_month</th>\n",
       "      <th>store_id_sum_last_month</th>\n",
       "      <th>product_quantity_sum_last_month</th>\n",
       "      <th>purchase_sum_sum_last_month</th>\n",
       "    </tr>\n",
       "    <tr>\n",
       "      <th>client_id</th>\n",
       "      <th></th>\n",
       "      <th></th>\n",
       "      <th></th>\n",
       "      <th></th>\n",
       "      <th></th>\n",
       "      <th></th>\n",
       "      <th></th>\n",
       "      <th></th>\n",
       "      <th></th>\n",
       "      <th></th>\n",
       "      <th></th>\n",
       "      <th></th>\n",
       "      <th></th>\n",
       "      <th></th>\n",
       "      <th></th>\n",
       "      <th></th>\n",
       "    </tr>\n",
       "  </thead>\n",
       "  <tbody>\n",
       "    <tr>\n",
       "      <td>000012768d</td>\n",
       "      <td>4</td>\n",
       "      <td>2</td>\n",
       "      <td>25.700001</td>\n",
       "      <td>0.0</td>\n",
       "      <td>0.0</td>\n",
       "      <td>0.0</td>\n",
       "      <td>4.0</td>\n",
       "      <td>2803.000000</td>\n",
       "      <td>3</td>\n",
       "      <td>10.0</td>\n",
       "      <td>0.0</td>\n",
       "      <td>0.0</td>\n",
       "      <td>0.0</td>\n",
       "      <td>2.0</td>\n",
       "      <td>1222.000000</td>\n",
       "      <td>1</td>\n",
       "    </tr>\n",
       "    <tr>\n",
       "      <td>000036f903</td>\n",
       "      <td>32</td>\n",
       "      <td>8</td>\n",
       "      <td>54.900002</td>\n",
       "      <td>60.0</td>\n",
       "      <td>0.0</td>\n",
       "      <td>0.0</td>\n",
       "      <td>32.0</td>\n",
       "      <td>9805.000000</td>\n",
       "      <td>5</td>\n",
       "      <td>13.7</td>\n",
       "      <td>0.0</td>\n",
       "      <td>0.0</td>\n",
       "      <td>0.0</td>\n",
       "      <td>8.0</td>\n",
       "      <td>2784.000000</td>\n",
       "      <td>4</td>\n",
       "    </tr>\n",
       "    <tr>\n",
       "      <td>000048b7a6</td>\n",
       "      <td>8</td>\n",
       "      <td>1</td>\n",
       "      <td>26.500000</td>\n",
       "      <td>0.0</td>\n",
       "      <td>0.0</td>\n",
       "      <td>0.0</td>\n",
       "      <td>11.0</td>\n",
       "      <td>3772.000000</td>\n",
       "      <td>2</td>\n",
       "      <td>1.2</td>\n",
       "      <td>0.0</td>\n",
       "      <td>0.0</td>\n",
       "      <td>0.0</td>\n",
       "      <td>2.0</td>\n",
       "      <td>342.000000</td>\n",
       "      <td>1</td>\n",
       "    </tr>\n",
       "    <tr>\n",
       "      <td>000073194a</td>\n",
       "      <td>17</td>\n",
       "      <td>6</td>\n",
       "      <td>74.900002</td>\n",
       "      <td>0.0</td>\n",
       "      <td>-96.0</td>\n",
       "      <td>0.0</td>\n",
       "      <td>27.0</td>\n",
       "      <td>9601.400391</td>\n",
       "      <td>1</td>\n",
       "      <td>25.0</td>\n",
       "      <td>0.0</td>\n",
       "      <td>0.0</td>\n",
       "      <td>0.0</td>\n",
       "      <td>7.0</td>\n",
       "      <td>3393.300049</td>\n",
       "      <td>1</td>\n",
       "    </tr>\n",
       "    <tr>\n",
       "      <td>00007c7133</td>\n",
       "      <td>11</td>\n",
       "      <td>1</td>\n",
       "      <td>56.599998</td>\n",
       "      <td>0.0</td>\n",
       "      <td>-240.0</td>\n",
       "      <td>0.0</td>\n",
       "      <td>12.0</td>\n",
       "      <td>6719.839844</td>\n",
       "      <td>2</td>\n",
       "      <td>1.9</td>\n",
       "      <td>0.0</td>\n",
       "      <td>0.0</td>\n",
       "      <td>0.0</td>\n",
       "      <td>1.0</td>\n",
       "      <td>380.000000</td>\n",
       "      <td>1</td>\n",
       "    </tr>\n",
       "  </tbody>\n",
       "</table>\n",
       "</div>"
      ],
      "text/plain": [
       "            total_trans_count  last_month_trans_count  \\\n",
       "client_id                                               \n",
       "000012768d                  4                       2   \n",
       "000036f903                 32                       8   \n",
       "000048b7a6                  8                       1   \n",
       "000073194a                 17                       6   \n",
       "00007c7133                 11                       1   \n",
       "\n",
       "            regular_points_received_sum_all  express_points_received_sum_all  \\\n",
       "client_id                                                                      \n",
       "000012768d                        25.700001                              0.0   \n",
       "000036f903                        54.900002                             60.0   \n",
       "000048b7a6                        26.500000                              0.0   \n",
       "000073194a                        74.900002                              0.0   \n",
       "00007c7133                        56.599998                              0.0   \n",
       "\n",
       "            regular_points_spent_sum_all  express_points_spent_sum_all  \\\n",
       "client_id                                                                \n",
       "000012768d                           0.0                           0.0   \n",
       "000036f903                           0.0                           0.0   \n",
       "000048b7a6                           0.0                           0.0   \n",
       "000073194a                         -96.0                           0.0   \n",
       "00007c7133                        -240.0                           0.0   \n",
       "\n",
       "            store_id_sum_all  product_quantity_sum_all  purchase_sum_sum_all  \\\n",
       "client_id                                                                      \n",
       "000012768d               4.0               2803.000000                     3   \n",
       "000036f903              32.0               9805.000000                     5   \n",
       "000048b7a6              11.0               3772.000000                     2   \n",
       "000073194a              27.0               9601.400391                     1   \n",
       "00007c7133              12.0               6719.839844                     2   \n",
       "\n",
       "            regular_points_received_sum_last_month  \\\n",
       "client_id                                            \n",
       "000012768d                                    10.0   \n",
       "000036f903                                    13.7   \n",
       "000048b7a6                                     1.2   \n",
       "000073194a                                    25.0   \n",
       "00007c7133                                     1.9   \n",
       "\n",
       "            express_points_received_sum_last_month  \\\n",
       "client_id                                            \n",
       "000012768d                                     0.0   \n",
       "000036f903                                     0.0   \n",
       "000048b7a6                                     0.0   \n",
       "000073194a                                     0.0   \n",
       "00007c7133                                     0.0   \n",
       "\n",
       "            regular_points_spent_sum_last_month  \\\n",
       "client_id                                         \n",
       "000012768d                                  0.0   \n",
       "000036f903                                  0.0   \n",
       "000048b7a6                                  0.0   \n",
       "000073194a                                  0.0   \n",
       "00007c7133                                  0.0   \n",
       "\n",
       "            express_points_spent_sum_last_month  store_id_sum_last_month  \\\n",
       "client_id                                                                  \n",
       "000012768d                                  0.0                      2.0   \n",
       "000036f903                                  0.0                      8.0   \n",
       "000048b7a6                                  0.0                      2.0   \n",
       "000073194a                                  0.0                      7.0   \n",
       "00007c7133                                  0.0                      1.0   \n",
       "\n",
       "            product_quantity_sum_last_month  purchase_sum_sum_last_month  \n",
       "client_id                                                                 \n",
       "000012768d                      1222.000000                            1  \n",
       "000036f903                      2784.000000                            4  \n",
       "000048b7a6                       342.000000                            1  \n",
       "000073194a                      3393.300049                            1  \n",
       "00007c7133                       380.000000                            1  "
      ]
     },
     "execution_count": 148,
     "metadata": {},
     "output_type": "execute_result"
    }
   ],
   "source": [
    "aggr.head()"
   ]
  },
  {
   "cell_type": "code",
   "execution_count": null,
   "metadata": {},
   "outputs": [],
   "source": []
  }
 ],
 "metadata": {
  "kernelspec": {
   "display_name": "Python 3",
   "language": "python",
   "name": "python3"
  },
  "language_info": {
   "codemirror_mode": {
    "name": "ipython",
    "version": 3
   },
   "file_extension": ".py",
   "mimetype": "text/x-python",
   "name": "python",
   "nbconvert_exporter": "python",
   "pygments_lexer": "ipython3",
   "version": "3.7.4"
  },
  "toc": {
   "base_numbering": 1,
   "nav_menu": {},
   "number_sections": true,
   "sideBar": true,
   "skip_h1_title": false,
   "title_cell": "Table of Contents",
   "title_sidebar": "Contents",
   "toc_cell": false,
   "toc_position": {},
   "toc_section_display": true,
   "toc_window_display": false
  },
  "varInspector": {
   "cols": {
    "lenName": 16,
    "lenType": 16,
    "lenVar": 40
   },
   "kernels_config": {
    "python": {
     "delete_cmd_postfix": "",
     "delete_cmd_prefix": "del ",
     "library": "var_list.py",
     "varRefreshCmd": "print(var_dic_list())"
    },
    "r": {
     "delete_cmd_postfix": ") ",
     "delete_cmd_prefix": "rm(",
     "library": "var_list.r",
     "varRefreshCmd": "cat(var_dic_list()) "
    }
   },
   "position": {
    "height": "144px",
    "left": "923px",
    "right": "20px",
    "top": "120px",
    "width": "350px"
   },
   "types_to_exclude": [
    "module",
    "function",
    "builtin_function_or_method",
    "instance",
    "_Feature"
   ],
   "window_display": false
  }
 },
 "nbformat": 4,
 "nbformat_minor": 2
}
