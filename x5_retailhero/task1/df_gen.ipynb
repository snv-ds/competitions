{
 "cells": [
  {
   "cell_type": "code",
   "execution_count": 1,
   "metadata": {
    "ExecuteTime": {
     "end_time": "2020-02-05T21:46:01.192588Z",
     "start_time": "2020-02-05T21:45:57.914069Z"
    }
   },
   "outputs": [],
   "source": [
    "import pandas as pd\n",
    "pd.set_option('max_columns', None)\n",
    "import numpy as np\n",
    "import matplotlib.pyplot as plt\n",
    "import seaborn as sns\n",
    "%matplotlib inline\n",
    "\n",
    "import lightgbm as lgbm\n",
    "\n",
    "import os\n",
    "import warnings\n",
    "warnings.filterwarnings('ignore')"
   ]
  },
  {
   "cell_type": "code",
   "execution_count": 3,
   "metadata": {
    "ExecuteTime": {
     "end_time": "2020-02-05T21:46:23.306457Z",
     "start_time": "2020-02-05T21:46:23.302180Z"
    }
   },
   "outputs": [],
   "source": [
    "PATH_TO_DATA = '../data/raw'"
   ]
  },
  {
   "cell_type": "markdown",
   "metadata": {},
   "source": [
    "# Data read"
   ]
  },
  {
   "cell_type": "code",
   "execution_count": 12,
   "metadata": {
    "ExecuteTime": {
     "end_time": "2020-02-05T21:56:21.545939Z",
     "start_time": "2020-02-05T21:54:22.200246Z"
    }
   },
   "outputs": [],
   "source": [
    "products = pd.read_csv(os.path.join(PATH_TO_DATA, 'products.csv'), index_col='product_id')\n",
    "clients = pd.read_csv(os.path.join(PATH_TO_DATA, 'clients.csv'), index_col='client_id',\n",
    "                                   parse_dates=['first_issue_date','first_redeem_date'])\n",
    "purchases = pd.read_csv(os.path.join(PATH_TO_DATA, 'purchases.csv'), parse_dates=['transaction_datetime'], index_col=0)"
   ]
  },
  {
   "cell_type": "code",
   "execution_count": 13,
   "metadata": {
    "ExecuteTime": {
     "end_time": "2020-02-05T22:00:29.671498Z",
     "start_time": "2020-02-05T22:00:29.009579Z"
    }
   },
   "outputs": [],
   "source": [
    "df_train = pd.read_csv(os.path.join(PATH_TO_DATA, 'uplift_train.csv'),index_col='client_id')\n",
    "df_test = pd.read_csv(os.path.join(PATH_TO_DATA, 'uplift_test.csv'),index_col='client_id')"
   ]
  },
  {
   "cell_type": "markdown",
   "metadata": {},
   "source": [
    "# Data clean"
   ]
  },
  {
   "cell_type": "markdown",
   "metadata": {},
   "source": [
    "## Purchases clean"
   ]
  },
  {
   "cell_type": "code",
   "execution_count": 14,
   "metadata": {
    "ExecuteTime": {
     "end_time": "2020-02-05T22:00:42.049595Z",
     "start_time": "2020-02-05T22:00:32.366624Z"
    }
   },
   "outputs": [],
   "source": [
    "for col in purchases.columns:\n",
    "    if purchases[col].dtype == 'float64':\n",
    "        purchases[col] = pd.to_numeric(purchases[col], downcast='float')"
   ]
  },
  {
   "cell_type": "code",
   "execution_count": 16,
   "metadata": {
    "ExecuteTime": {
     "end_time": "2020-02-05T22:00:52.758236Z",
     "start_time": "2020-02-05T22:00:51.688474Z"
    }
   },
   "outputs": [
    {
     "name": "stdout",
     "output_type": "stream",
     "text": [
      "<class 'pandas.core.frame.DataFrame'>\n",
      "Int64Index: 45786568 entries, 0 to 45786567\n",
      "Data columns (total 13 columns):\n",
      "client_id                  object\n",
      "transaction_id             object\n",
      "transaction_datetime       datetime64[ns]\n",
      "regular_points_received    float32\n",
      "express_points_received    float32\n",
      "regular_points_spent       float32\n",
      "express_points_spent       float32\n",
      "purchase_sum               float32\n",
      "store_id                   object\n",
      "product_id                 object\n",
      "product_quantity           float32\n",
      "trn_sum_from_iss           float32\n",
      "trn_sum_from_red           float32\n",
      "dtypes: datetime64[ns](1), float32(8), object(4)\n",
      "memory usage: 3.4+ GB\n"
     ]
    }
   ],
   "source": [
    "# purchases.set_index(purchases.iloc[:,0],inplace=True)\n",
    "purchases.info()"
   ]
  },
  {
   "cell_type": "markdown",
   "metadata": {},
   "source": [
    "## Products clean"
   ]
  },
  {
   "cell_type": "code",
   "execution_count": 17,
   "metadata": {
    "ExecuteTime": {
     "end_time": "2020-02-05T22:01:06.807444Z",
     "start_time": "2020-02-05T22:01:06.739909Z"
    }
   },
   "outputs": [],
   "source": [
    "products.drop(products[products['level_1'].isna()].index, inplace=True)"
   ]
  },
  {
   "cell_type": "code",
   "execution_count": 18,
   "metadata": {
    "ExecuteTime": {
     "end_time": "2020-02-05T22:01:07.528314Z",
     "start_time": "2020-02-05T22:01:07.502508Z"
    }
   },
   "outputs": [],
   "source": [
    "id_feat = []\n",
    "for col in products.columns:\n",
    "    if col.endswith('id') and col != 'segment_id':\n",
    "        id_feat.append(col)\n",
    "        \n",
    "for feat in id_feat:\n",
    "    products[feat].fillna(\"NA_ID\", inplace=True)"
   ]
  },
  {
   "cell_type": "code",
   "execution_count": 19,
   "metadata": {
    "ExecuteTime": {
     "end_time": "2020-02-05T22:01:08.220273Z",
     "start_time": "2020-02-05T22:01:08.210680Z"
    }
   },
   "outputs": [],
   "source": [
    "products['segment_id'].fillna(-1, inplace=True)"
   ]
  },
  {
   "cell_type": "markdown",
   "metadata": {},
   "source": [
    "## Clients clean"
   ]
  },
  {
   "cell_type": "code",
   "execution_count": 20,
   "metadata": {
    "ExecuteTime": {
     "end_time": "2020-02-05T22:01:25.109707Z",
     "start_time": "2020-02-05T22:01:20.028725Z"
    }
   },
   "outputs": [],
   "source": [
    "clients.loc[clients.query('age <= 14 or age > 90').index] = np.random.randint(34.0, 59.0)"
   ]
  },
  {
   "cell_type": "markdown",
   "metadata": {},
   "source": [
    "# Make features"
   ]
  },
  {
   "cell_type": "code",
   "execution_count": 34,
   "metadata": {
    "ExecuteTime": {
     "end_time": "2020-02-05T22:23:35.917513Z",
     "start_time": "2020-02-05T22:23:34.869669Z"
    }
   },
   "outputs": [],
   "source": [
    "features = pd.read_pickle('../data/processed/features.pkl')\n",
    "merged_train = pd.concat([df_train,clients,features],axis = 1,sort = True)\n",
    "merged_train = merged_train[~merged_train['target'].isnull()].copy()\n",
    "merged_train['first_issue_date_weekday'] = merged_train['first_issue_date'].dt.weekday\n",
    "merged_train['first_redeem_date_weekday'] = merged_train['first_redeem_date'].dt.weekday\n",
    "merged_train['first_issue_date_hour'] = merged_train['first_issue_date'].dt.hour\n",
    "merged_train['first_redeem_date_hour'] = merged_train['first_redeem_date'].dt.hour\n",
    "merged_train['first_issue_date'] = merged_train['first_issue_date'].astype(int)/10**9\n",
    "merged_train['first_redeem_date'] = merged_train['first_redeem_date'].astype(int)/10**9\n",
    "merged_train['issue_redeem_delay'] = merged_train['first_redeem_date'] - merged_train['first_issue_date']\n",
    "merged_train['gender'] = list(ord(v[0]) for v in merged_train['gender'].values)"
   ]
  },
  {
   "cell_type": "code",
   "execution_count": 35,
   "metadata": {
    "ExecuteTime": {
     "end_time": "2020-02-05T22:23:36.219006Z",
     "start_time": "2020-02-05T22:23:36.183404Z"
    }
   },
   "outputs": [
    {
     "data": {
      "text/html": [
       "<div>\n",
       "<style scoped>\n",
       "    .dataframe tbody tr th:only-of-type {\n",
       "        vertical-align: middle;\n",
       "    }\n",
       "\n",
       "    .dataframe tbody tr th {\n",
       "        vertical-align: top;\n",
       "    }\n",
       "\n",
       "    .dataframe thead th {\n",
       "        text-align: right;\n",
       "    }\n",
       "</style>\n",
       "<table border=\"1\" class=\"dataframe\">\n",
       "  <thead>\n",
       "    <tr style=\"text-align: right;\">\n",
       "      <th></th>\n",
       "      <th>treatment_flg</th>\n",
       "      <th>target</th>\n",
       "      <th>first_issue_date</th>\n",
       "      <th>first_redeem_date</th>\n",
       "      <th>age</th>\n",
       "      <th>gender</th>\n",
       "      <th>total_trans_count</th>\n",
       "      <th>last_month_trans_count</th>\n",
       "      <th>regular_points_received_sum_all</th>\n",
       "      <th>express_points_received_sum_all</th>\n",
       "      <th>regular_points_spent_sum_all</th>\n",
       "      <th>express_points_spent_sum_all</th>\n",
       "      <th>store_id_sum_all</th>\n",
       "      <th>product_quantity_sum_all</th>\n",
       "      <th>purchase_sum_sum_all</th>\n",
       "      <th>regular_points_received_sum_last_month</th>\n",
       "      <th>express_points_received_sum_last_month</th>\n",
       "      <th>regular_points_spent_sum_last_month</th>\n",
       "      <th>express_points_spent_sum_last_month</th>\n",
       "      <th>store_id_sum_last_month</th>\n",
       "      <th>product_quantity_sum_last_month</th>\n",
       "      <th>purchase_sum_sum_last_month</th>\n",
       "      <th>first_issue_date_weekday</th>\n",
       "      <th>first_redeem_date_weekday</th>\n",
       "      <th>first_issue_date_hour</th>\n",
       "      <th>first_redeem_date_hour</th>\n",
       "      <th>issue_redeem_delay</th>\n",
       "    </tr>\n",
       "  </thead>\n",
       "  <tbody>\n",
       "    <tr>\n",
       "      <td>000012768d</td>\n",
       "      <td>0.0</td>\n",
       "      <td>1.0</td>\n",
       "      <td>1.501948e+09</td>\n",
       "      <td>1.515094e+09</td>\n",
       "      <td>45</td>\n",
       "      <td>85</td>\n",
       "      <td>4</td>\n",
       "      <td>2</td>\n",
       "      <td>25.700001</td>\n",
       "      <td>0.0</td>\n",
       "      <td>0.0</td>\n",
       "      <td>0.0</td>\n",
       "      <td>4.0</td>\n",
       "      <td>2803.000000</td>\n",
       "      <td>3</td>\n",
       "      <td>10.000000</td>\n",
       "      <td>0.0</td>\n",
       "      <td>0.0</td>\n",
       "      <td>0.0</td>\n",
       "      <td>2.0</td>\n",
       "      <td>1222.000000</td>\n",
       "      <td>1</td>\n",
       "      <td>5</td>\n",
       "      <td>3.0</td>\n",
       "      <td>15</td>\n",
       "      <td>19.0</td>\n",
       "      <td>1.314656e+07</td>\n",
       "    </tr>\n",
       "    <tr>\n",
       "      <td>000036f903</td>\n",
       "      <td>1.0</td>\n",
       "      <td>1.0</td>\n",
       "      <td>1.491832e+09</td>\n",
       "      <td>1.492951e+09</td>\n",
       "      <td>72</td>\n",
       "      <td>70</td>\n",
       "      <td>32</td>\n",
       "      <td>8</td>\n",
       "      <td>54.900002</td>\n",
       "      <td>60.0</td>\n",
       "      <td>0.0</td>\n",
       "      <td>0.0</td>\n",
       "      <td>32.0</td>\n",
       "      <td>9805.000000</td>\n",
       "      <td>5</td>\n",
       "      <td>13.700000</td>\n",
       "      <td>0.0</td>\n",
       "      <td>0.0</td>\n",
       "      <td>0.0</td>\n",
       "      <td>8.0</td>\n",
       "      <td>2784.000000</td>\n",
       "      <td>4</td>\n",
       "      <td>0</td>\n",
       "      <td>6.0</td>\n",
       "      <td>13</td>\n",
       "      <td>12.0</td>\n",
       "      <td>1.118613e+06</td>\n",
       "    </tr>\n",
       "    <tr>\n",
       "      <td>00010925a5</td>\n",
       "      <td>1.0</td>\n",
       "      <td>1.0</td>\n",
       "      <td>1.532449e+09</td>\n",
       "      <td>1.536942e+09</td>\n",
       "      <td>83</td>\n",
       "      <td>85</td>\n",
       "      <td>18</td>\n",
       "      <td>8</td>\n",
       "      <td>31.799999</td>\n",
       "      <td>0.0</td>\n",
       "      <td>-17.0</td>\n",
       "      <td>0.0</td>\n",
       "      <td>17.0</td>\n",
       "      <td>5883.000000</td>\n",
       "      <td>2</td>\n",
       "      <td>13.900000</td>\n",
       "      <td>0.0</td>\n",
       "      <td>0.0</td>\n",
       "      <td>0.0</td>\n",
       "      <td>8.0</td>\n",
       "      <td>2858.000000</td>\n",
       "      <td>2</td>\n",
       "      <td>1</td>\n",
       "      <td>4.0</td>\n",
       "      <td>16</td>\n",
       "      <td>16.0</td>\n",
       "      <td>4.492280e+06</td>\n",
       "    </tr>\n",
       "    <tr>\n",
       "      <td>0001f552b0</td>\n",
       "      <td>1.0</td>\n",
       "      <td>1.0</td>\n",
       "      <td>1.498850e+09</td>\n",
       "      <td>1.535461e+09</td>\n",
       "      <td>33</td>\n",
       "      <td>70</td>\n",
       "      <td>15</td>\n",
       "      <td>7</td>\n",
       "      <td>78.900002</td>\n",
       "      <td>0.0</td>\n",
       "      <td>0.0</td>\n",
       "      <td>0.0</td>\n",
       "      <td>15.0</td>\n",
       "      <td>6155.180176</td>\n",
       "      <td>4</td>\n",
       "      <td>47.000000</td>\n",
       "      <td>0.0</td>\n",
       "      <td>0.0</td>\n",
       "      <td>0.0</td>\n",
       "      <td>6.0</td>\n",
       "      <td>2211.370117</td>\n",
       "      <td>2</td>\n",
       "      <td>4</td>\n",
       "      <td>1.0</td>\n",
       "      <td>19</td>\n",
       "      <td>12.0</td>\n",
       "      <td>3.661075e+07</td>\n",
       "    </tr>\n",
       "    <tr>\n",
       "      <td>00020e7b18</td>\n",
       "      <td>1.0</td>\n",
       "      <td>1.0</td>\n",
       "      <td>1.511783e+09</td>\n",
       "      <td>1.515607e+09</td>\n",
       "      <td>73</td>\n",
       "      <td>85</td>\n",
       "      <td>18</td>\n",
       "      <td>5</td>\n",
       "      <td>286.100006</td>\n",
       "      <td>0.0</td>\n",
       "      <td>-592.0</td>\n",
       "      <td>-30.0</td>\n",
       "      <td>27.0</td>\n",
       "      <td>25819.609375</td>\n",
       "      <td>4</td>\n",
       "      <td>58.399998</td>\n",
       "      <td>0.0</td>\n",
       "      <td>-76.0</td>\n",
       "      <td>-10.0</td>\n",
       "      <td>7.0</td>\n",
       "      <td>6096.270020</td>\n",
       "      <td>1</td>\n",
       "      <td>0</td>\n",
       "      <td>2.0</td>\n",
       "      <td>11</td>\n",
       "      <td>17.0</td>\n",
       "      <td>3.823700e+06</td>\n",
       "    </tr>\n",
       "    <tr>\n",
       "      <td>...</td>\n",
       "      <td>...</td>\n",
       "      <td>...</td>\n",
       "      <td>...</td>\n",
       "      <td>...</td>\n",
       "      <td>...</td>\n",
       "      <td>...</td>\n",
       "      <td>...</td>\n",
       "      <td>...</td>\n",
       "      <td>...</td>\n",
       "      <td>...</td>\n",
       "      <td>...</td>\n",
       "      <td>...</td>\n",
       "      <td>...</td>\n",
       "      <td>...</td>\n",
       "      <td>...</td>\n",
       "      <td>...</td>\n",
       "      <td>...</td>\n",
       "      <td>...</td>\n",
       "      <td>...</td>\n",
       "      <td>...</td>\n",
       "      <td>...</td>\n",
       "      <td>...</td>\n",
       "      <td>...</td>\n",
       "      <td>...</td>\n",
       "      <td>...</td>\n",
       "      <td>...</td>\n",
       "      <td>...</td>\n",
       "    </tr>\n",
       "    <tr>\n",
       "      <td>fffe0abb97</td>\n",
       "      <td>0.0</td>\n",
       "      <td>0.0</td>\n",
       "      <td>1.511773e+09</td>\n",
       "      <td>1.518341e+09</td>\n",
       "      <td>35</td>\n",
       "      <td>70</td>\n",
       "      <td>9</td>\n",
       "      <td>3</td>\n",
       "      <td>22.200001</td>\n",
       "      <td>0.0</td>\n",
       "      <td>-26.0</td>\n",
       "      <td>-150.0</td>\n",
       "      <td>11.0</td>\n",
       "      <td>2716.419922</td>\n",
       "      <td>2</td>\n",
       "      <td>7.300000</td>\n",
       "      <td>0.0</td>\n",
       "      <td>-15.0</td>\n",
       "      <td>-60.0</td>\n",
       "      <td>4.0</td>\n",
       "      <td>820.719971</td>\n",
       "      <td>1</td>\n",
       "      <td>0</td>\n",
       "      <td>6.0</td>\n",
       "      <td>8</td>\n",
       "      <td>9.0</td>\n",
       "      <td>6.568154e+06</td>\n",
       "    </tr>\n",
       "    <tr>\n",
       "      <td>fffe0ed719</td>\n",
       "      <td>0.0</td>\n",
       "      <td>1.0</td>\n",
       "      <td>1.505466e+09</td>\n",
       "      <td>1.513090e+09</td>\n",
       "      <td>69</td>\n",
       "      <td>85</td>\n",
       "      <td>30</td>\n",
       "      <td>19</td>\n",
       "      <td>69.900002</td>\n",
       "      <td>0.0</td>\n",
       "      <td>0.0</td>\n",
       "      <td>0.0</td>\n",
       "      <td>35.0</td>\n",
       "      <td>10417.479492</td>\n",
       "      <td>2</td>\n",
       "      <td>59.799999</td>\n",
       "      <td>0.0</td>\n",
       "      <td>0.0</td>\n",
       "      <td>0.0</td>\n",
       "      <td>20.0</td>\n",
       "      <td>8551.479492</td>\n",
       "      <td>1</td>\n",
       "      <td>4</td>\n",
       "      <td>1.0</td>\n",
       "      <td>8</td>\n",
       "      <td>14.0</td>\n",
       "      <td>7.624608e+06</td>\n",
       "    </tr>\n",
       "    <tr>\n",
       "      <td>fffea1204c</td>\n",
       "      <td>0.0</td>\n",
       "      <td>1.0</td>\n",
       "      <td>1.517418e+09</td>\n",
       "      <td>1.520874e+09</td>\n",
       "      <td>73</td>\n",
       "      <td>70</td>\n",
       "      <td>17</td>\n",
       "      <td>6</td>\n",
       "      <td>26.100000</td>\n",
       "      <td>0.0</td>\n",
       "      <td>-40.0</td>\n",
       "      <td>0.0</td>\n",
       "      <td>18.0</td>\n",
       "      <td>4297.120117</td>\n",
       "      <td>1</td>\n",
       "      <td>10.900000</td>\n",
       "      <td>0.0</td>\n",
       "      <td>-40.0</td>\n",
       "      <td>0.0</td>\n",
       "      <td>5.0</td>\n",
       "      <td>1746.410034</td>\n",
       "      <td>1</td>\n",
       "      <td>2</td>\n",
       "      <td>0.0</td>\n",
       "      <td>16</td>\n",
       "      <td>17.0</td>\n",
       "      <td>3.456170e+06</td>\n",
       "    </tr>\n",
       "    <tr>\n",
       "      <td>fffeca6d22</td>\n",
       "      <td>1.0</td>\n",
       "      <td>0.0</td>\n",
       "      <td>1.514462e+09</td>\n",
       "      <td>-9.223372e+09</td>\n",
       "      <td>77</td>\n",
       "      <td>70</td>\n",
       "      <td>16</td>\n",
       "      <td>9</td>\n",
       "      <td>47.400002</td>\n",
       "      <td>0.0</td>\n",
       "      <td>0.0</td>\n",
       "      <td>0.0</td>\n",
       "      <td>17.0</td>\n",
       "      <td>2832.860107</td>\n",
       "      <td>2</td>\n",
       "      <td>34.500000</td>\n",
       "      <td>0.0</td>\n",
       "      <td>0.0</td>\n",
       "      <td>0.0</td>\n",
       "      <td>9.0</td>\n",
       "      <td>1251.859985</td>\n",
       "      <td>1</td>\n",
       "      <td>3</td>\n",
       "      <td>NaN</td>\n",
       "      <td>11</td>\n",
       "      <td>NaN</td>\n",
       "      <td>-1.073783e+10</td>\n",
       "    </tr>\n",
       "    <tr>\n",
       "      <td>fffff6ce77</td>\n",
       "      <td>0.0</td>\n",
       "      <td>1.0</td>\n",
       "      <td>1.501792e+09</td>\n",
       "      <td>1.503766e+09</td>\n",
       "      <td>42</td>\n",
       "      <td>85</td>\n",
       "      <td>32</td>\n",
       "      <td>10</td>\n",
       "      <td>221.300003</td>\n",
       "      <td>0.0</td>\n",
       "      <td>-302.0</td>\n",
       "      <td>0.0</td>\n",
       "      <td>43.0</td>\n",
       "      <td>18560.589844</td>\n",
       "      <td>3</td>\n",
       "      <td>27.299999</td>\n",
       "      <td>0.0</td>\n",
       "      <td>0.0</td>\n",
       "      <td>0.0</td>\n",
       "      <td>11.0</td>\n",
       "      <td>4433.000000</td>\n",
       "      <td>3</td>\n",
       "      <td>3</td>\n",
       "      <td>5.0</td>\n",
       "      <td>20</td>\n",
       "      <td>16.0</td>\n",
       "      <td>1.973789e+06</td>\n",
       "    </tr>\n",
       "  </tbody>\n",
       "</table>\n",
       "<p>200039 rows × 27 columns</p>\n",
       "</div>"
      ],
      "text/plain": [
       "            treatment_flg  target  first_issue_date  first_redeem_date  age  \\\n",
       "000012768d            0.0     1.0      1.501948e+09       1.515094e+09   45   \n",
       "000036f903            1.0     1.0      1.491832e+09       1.492951e+09   72   \n",
       "00010925a5            1.0     1.0      1.532449e+09       1.536942e+09   83   \n",
       "0001f552b0            1.0     1.0      1.498850e+09       1.535461e+09   33   \n",
       "00020e7b18            1.0     1.0      1.511783e+09       1.515607e+09   73   \n",
       "...                   ...     ...               ...                ...  ...   \n",
       "fffe0abb97            0.0     0.0      1.511773e+09       1.518341e+09   35   \n",
       "fffe0ed719            0.0     1.0      1.505466e+09       1.513090e+09   69   \n",
       "fffea1204c            0.0     1.0      1.517418e+09       1.520874e+09   73   \n",
       "fffeca6d22            1.0     0.0      1.514462e+09      -9.223372e+09   77   \n",
       "fffff6ce77            0.0     1.0      1.501792e+09       1.503766e+09   42   \n",
       "\n",
       "            gender  total_trans_count  last_month_trans_count  \\\n",
       "000012768d      85                  4                       2   \n",
       "000036f903      70                 32                       8   \n",
       "00010925a5      85                 18                       8   \n",
       "0001f552b0      70                 15                       7   \n",
       "00020e7b18      85                 18                       5   \n",
       "...            ...                ...                     ...   \n",
       "fffe0abb97      70                  9                       3   \n",
       "fffe0ed719      85                 30                      19   \n",
       "fffea1204c      70                 17                       6   \n",
       "fffeca6d22      70                 16                       9   \n",
       "fffff6ce77      85                 32                      10   \n",
       "\n",
       "            regular_points_received_sum_all  express_points_received_sum_all  \\\n",
       "000012768d                        25.700001                              0.0   \n",
       "000036f903                        54.900002                             60.0   \n",
       "00010925a5                        31.799999                              0.0   \n",
       "0001f552b0                        78.900002                              0.0   \n",
       "00020e7b18                       286.100006                              0.0   \n",
       "...                                     ...                              ...   \n",
       "fffe0abb97                        22.200001                              0.0   \n",
       "fffe0ed719                        69.900002                              0.0   \n",
       "fffea1204c                        26.100000                              0.0   \n",
       "fffeca6d22                        47.400002                              0.0   \n",
       "fffff6ce77                       221.300003                              0.0   \n",
       "\n",
       "            regular_points_spent_sum_all  express_points_spent_sum_all  \\\n",
       "000012768d                           0.0                           0.0   \n",
       "000036f903                           0.0                           0.0   \n",
       "00010925a5                         -17.0                           0.0   \n",
       "0001f552b0                           0.0                           0.0   \n",
       "00020e7b18                        -592.0                         -30.0   \n",
       "...                                  ...                           ...   \n",
       "fffe0abb97                         -26.0                        -150.0   \n",
       "fffe0ed719                           0.0                           0.0   \n",
       "fffea1204c                         -40.0                           0.0   \n",
       "fffeca6d22                           0.0                           0.0   \n",
       "fffff6ce77                        -302.0                           0.0   \n",
       "\n",
       "            store_id_sum_all  product_quantity_sum_all  purchase_sum_sum_all  \\\n",
       "000012768d               4.0               2803.000000                     3   \n",
       "000036f903              32.0               9805.000000                     5   \n",
       "00010925a5              17.0               5883.000000                     2   \n",
       "0001f552b0              15.0               6155.180176                     4   \n",
       "00020e7b18              27.0              25819.609375                     4   \n",
       "...                      ...                       ...                   ...   \n",
       "fffe0abb97              11.0               2716.419922                     2   \n",
       "fffe0ed719              35.0              10417.479492                     2   \n",
       "fffea1204c              18.0               4297.120117                     1   \n",
       "fffeca6d22              17.0               2832.860107                     2   \n",
       "fffff6ce77              43.0              18560.589844                     3   \n",
       "\n",
       "            regular_points_received_sum_last_month  \\\n",
       "000012768d                               10.000000   \n",
       "000036f903                               13.700000   \n",
       "00010925a5                               13.900000   \n",
       "0001f552b0                               47.000000   \n",
       "00020e7b18                               58.399998   \n",
       "...                                            ...   \n",
       "fffe0abb97                                7.300000   \n",
       "fffe0ed719                               59.799999   \n",
       "fffea1204c                               10.900000   \n",
       "fffeca6d22                               34.500000   \n",
       "fffff6ce77                               27.299999   \n",
       "\n",
       "            express_points_received_sum_last_month  \\\n",
       "000012768d                                     0.0   \n",
       "000036f903                                     0.0   \n",
       "00010925a5                                     0.0   \n",
       "0001f552b0                                     0.0   \n",
       "00020e7b18                                     0.0   \n",
       "...                                            ...   \n",
       "fffe0abb97                                     0.0   \n",
       "fffe0ed719                                     0.0   \n",
       "fffea1204c                                     0.0   \n",
       "fffeca6d22                                     0.0   \n",
       "fffff6ce77                                     0.0   \n",
       "\n",
       "            regular_points_spent_sum_last_month  \\\n",
       "000012768d                                  0.0   \n",
       "000036f903                                  0.0   \n",
       "00010925a5                                  0.0   \n",
       "0001f552b0                                  0.0   \n",
       "00020e7b18                                -76.0   \n",
       "...                                         ...   \n",
       "fffe0abb97                                -15.0   \n",
       "fffe0ed719                                  0.0   \n",
       "fffea1204c                                -40.0   \n",
       "fffeca6d22                                  0.0   \n",
       "fffff6ce77                                  0.0   \n",
       "\n",
       "            express_points_spent_sum_last_month  store_id_sum_last_month  \\\n",
       "000012768d                                  0.0                      2.0   \n",
       "000036f903                                  0.0                      8.0   \n",
       "00010925a5                                  0.0                      8.0   \n",
       "0001f552b0                                  0.0                      6.0   \n",
       "00020e7b18                                -10.0                      7.0   \n",
       "...                                         ...                      ...   \n",
       "fffe0abb97                                -60.0                      4.0   \n",
       "fffe0ed719                                  0.0                     20.0   \n",
       "fffea1204c                                  0.0                      5.0   \n",
       "fffeca6d22                                  0.0                      9.0   \n",
       "fffff6ce77                                  0.0                     11.0   \n",
       "\n",
       "            product_quantity_sum_last_month  purchase_sum_sum_last_month  \\\n",
       "000012768d                      1222.000000                            1   \n",
       "000036f903                      2784.000000                            4   \n",
       "00010925a5                      2858.000000                            2   \n",
       "0001f552b0                      2211.370117                            2   \n",
       "00020e7b18                      6096.270020                            1   \n",
       "...                                     ...                          ...   \n",
       "fffe0abb97                       820.719971                            1   \n",
       "fffe0ed719                      8551.479492                            1   \n",
       "fffea1204c                      1746.410034                            1   \n",
       "fffeca6d22                      1251.859985                            1   \n",
       "fffff6ce77                      4433.000000                            3   \n",
       "\n",
       "            first_issue_date_weekday  first_redeem_date_weekday  \\\n",
       "000012768d                         5                        3.0   \n",
       "000036f903                         0                        6.0   \n",
       "00010925a5                         1                        4.0   \n",
       "0001f552b0                         4                        1.0   \n",
       "00020e7b18                         0                        2.0   \n",
       "...                              ...                        ...   \n",
       "fffe0abb97                         0                        6.0   \n",
       "fffe0ed719                         4                        1.0   \n",
       "fffea1204c                         2                        0.0   \n",
       "fffeca6d22                         3                        NaN   \n",
       "fffff6ce77                         3                        5.0   \n",
       "\n",
       "            first_issue_date_hour  first_redeem_date_hour  issue_redeem_delay  \n",
       "000012768d                     15                    19.0        1.314656e+07  \n",
       "000036f903                     13                    12.0        1.118613e+06  \n",
       "00010925a5                     16                    16.0        4.492280e+06  \n",
       "0001f552b0                     19                    12.0        3.661075e+07  \n",
       "00020e7b18                     11                    17.0        3.823700e+06  \n",
       "...                           ...                     ...                 ...  \n",
       "fffe0abb97                      8                     9.0        6.568154e+06  \n",
       "fffe0ed719                      8                    14.0        7.624608e+06  \n",
       "fffea1204c                     16                    17.0        3.456170e+06  \n",
       "fffeca6d22                     11                     NaN       -1.073783e+10  \n",
       "fffff6ce77                     20                    16.0        1.973789e+06  \n",
       "\n",
       "[200039 rows x 27 columns]"
      ]
     },
     "execution_count": 35,
     "metadata": {},
     "output_type": "execute_result"
    }
   ],
   "source": [
    "merged_train"
   ]
  },
  {
   "cell_type": "code",
   "execution_count": 36,
   "metadata": {
    "ExecuteTime": {
     "end_time": "2020-02-05T22:23:37.632764Z",
     "start_time": "2020-02-05T22:23:37.523209Z"
    }
   },
   "outputs": [],
   "source": [
    "treatment = merged_train[merged_train['treatment_flg'] == 1].drop('treatment_flg',axis = 1)\n",
    "treatment_x = treatment.drop('target',axis = 1)\n",
    "treatment_y = treatment['target']\n",
    "control = merged_train[merged_train['treatment_flg'] == 0].drop('treatment_flg',axis = 1)\n",
    "control_x = control.drop('target',axis = 1)\n",
    "control_y = control['target']"
   ]
  },
  {
   "cell_type": "markdown",
   "metadata": {},
   "source": [
    "# Implementing"
   ]
  },
  {
   "cell_type": "code",
   "execution_count": 37,
   "metadata": {
    "ExecuteTime": {
     "end_time": "2020-02-05T22:24:13.382175Z",
     "start_time": "2020-02-05T22:23:57.508474Z"
    }
   },
   "outputs": [
    {
     "name": "stdout",
     "output_type": "stream",
     "text": [
      "[50]\tcv_agg's binary_logloss: 0.552021 + 0.0011085\n",
      "[100]\tcv_agg's binary_logloss: 0.537645 + 0.00164411\n",
      "[150]\tcv_agg's binary_logloss: 0.533509 + 0.00155248\n",
      "[200]\tcv_agg's binary_logloss: 0.531899 + 0.00156379\n",
      "[250]\tcv_agg's binary_logloss: 0.531127 + 0.00164033\n",
      "[300]\tcv_agg's binary_logloss: 0.530681 + 0.00172733\n",
      "[350]\tcv_agg's binary_logloss: 0.530371 + 0.00184221\n",
      "[400]\tcv_agg's binary_logloss: 0.530198 + 0.00180908\n",
      "[450]\tcv_agg's binary_logloss: 0.530075 + 0.00179412\n",
      "[500]\tcv_agg's binary_logloss: 0.53004 + 0.00181498\n",
      "[550]\tcv_agg's binary_logloss: 0.530076 + 0.00180629\n"
     ]
    }
   ],
   "source": [
    "params = {'learning_rate':0.03,'max_depth':4,'num_leaves':20,\n",
    "             'min_data_in_leaf':3, 'application':'binary',\n",
    "             'subsample':0.8, 'colsample_bytree': 0.8,\n",
    "             'reg_alpha':0.01,'data_random_seed':2027,'metric':'binary_logloss',\n",
    "             'max_bin':416,'bagging_freq':3,'reg_lambda':0.01,'num_leaves':20             \n",
    "    }\n",
    "matrix = lgbm.Dataset(treatment_x, label=treatment_y)\n",
    "cv_result = lgbm.cv(params, matrix, num_boost_round=5000,nfold=5, stratified=True, \n",
    "                              early_stopping_rounds=50, seed=42, verbose_eval=50)"
   ]
  },
  {
   "cell_type": "code",
   "execution_count": 38,
   "metadata": {
    "ExecuteTime": {
     "end_time": "2020-02-05T22:24:40.258995Z",
     "start_time": "2020-02-05T22:24:32.731761Z"
    }
   },
   "outputs": [
    {
     "data": {
      "text/plain": [
       "LGBMClassifier(application='binary', bagging_freq=3, boosting_type='gbdt',\n",
       "               class_weight=None, colsample_bytree=0.8, data_random_seed=2027,\n",
       "               importance_type='split', learning_rate=0.03, max_bin=416,\n",
       "               max_depth=4, metric='binary_logloss', min_child_samples=20,\n",
       "               min_child_weight=0.001, min_data_in_leaf=3, min_split_gain=0.0,\n",
       "               n_estimators=507, n_jobs=-1, num_leaves=20, objective=None,\n",
       "               random_state=None, reg_alpha=0.01, reg_lambda=0.01, silent=True,\n",
       "               subsample=0.8, subsample_for_bin=200000, subsample_freq=0)"
      ]
     },
     "execution_count": 38,
     "metadata": {},
     "output_type": "execute_result"
    }
   ],
   "source": [
    "treatment_model = lgbm.LGBMClassifier(n_estimators = len(cv_result['binary_logloss-mean']),**params)\n",
    "treatment_model.fit(treatment_x,treatment_y)\n",
    "control_model = lgbm.LGBMClassifier(n_estimators = len(cv_result['binary_logloss-mean']),**params)\n",
    "control_model.fit(control_x,control_y)"
   ]
  },
  {
   "cell_type": "code",
   "execution_count": 39,
   "metadata": {
    "ExecuteTime": {
     "end_time": "2020-02-05T22:24:41.021642Z",
     "start_time": "2020-02-05T22:24:40.562277Z"
    }
   },
   "outputs": [
    {
     "data": {
      "image/png": "[encoded data removed]",
      "text/plain": [
       "<Figure size 1440x720 with 1 Axes>"
      ]
     },
     "metadata": {
      "needs_background": "light"
     },
     "output_type": "display_data"
    }
   ],
   "source": [
    "feature_imp = pd.DataFrame(sorted(zip(treatment_model.feature_importances_,treatment_x.columns)), columns=['Value','Feature'])\n",
    "\n",
    "plt.figure(figsize=(20, 10))\n",
    "sns.barplot(x=\"Value\", y=\"Feature\", data=feature_imp.sort_values(by=\"Value\", ascending=False))\n",
    "plt.title('LightGBM Features (avg over folds)')\n",
    "plt.tight_layout()\n",
    "plt.show()"
   ]
  },
  {
   "cell_type": "code",
   "execution_count": 43,
   "metadata": {
    "ExecuteTime": {
     "end_time": "2020-02-05T22:26:32.439263Z",
     "start_time": "2020-02-05T22:26:31.672225Z"
    }
   },
   "outputs": [],
   "source": [
    "df_test['target'] = 1\n",
    "merged_test = pd.concat([df_test,clients,features],axis = 1,sort = True)\n",
    "merged_test = merged_test[~merged_test['target'].isnull()].copy()"
   ]
  },
  {
   "cell_type": "code",
   "execution_count": 45,
   "metadata": {
    "ExecuteTime": {
     "end_time": "2020-02-05T22:27:44.046964Z",
     "start_time": "2020-02-05T22:27:43.923767Z"
    }
   },
   "outputs": [],
   "source": [
    "merged_test['first_issue_date_weekday'] = merged_test['first_issue_date'].dt.weekday\n",
    "merged_test['first_redeem_date_weekday'] = merged_test['first_redeem_date'].dt.weekday\n",
    "merged_test['first_issue_date_hour'] = merged_test['first_issue_date'].dt.hour\n",
    "merged_test['first_redeem_date_hour'] = merged_test['first_redeem_date'].dt.hour\n",
    "merged_test['first_issue_date'] = merged_test['first_issue_date'].astype(int)/10**9\n",
    "merged_test['first_redeem_date'] = merged_test['first_redeem_date'].astype(int)/10**9\n",
    "merged_test['diff'] = merged_test['first_redeem_date']-merged_test['first_issue_date']\n",
    "merged_test['gender'] = list(ord(v[0]) for v in merged_test['gender'].values)"
   ]
  },
  {
   "cell_type": "code",
   "execution_count": 46,
   "metadata": {
    "ExecuteTime": {
     "end_time": "2020-02-05T22:27:58.532615Z",
     "start_time": "2020-02-05T22:27:58.496891Z"
    }
   },
   "outputs": [],
   "source": [
    "test_x = merged_test.drop('target',axis = 1)"
   ]
  },
  {
   "cell_type": "code",
   "execution_count": 47,
   "metadata": {
    "ExecuteTime": {
     "end_time": "2020-02-05T22:28:17.248986Z",
     "start_time": "2020-02-05T22:28:13.266112Z"
    }
   },
   "outputs": [],
   "source": [
    "preds_pos = treatment_model.predict_proba(test_x)[:,1]\n",
    "preds_neg = control_model.predict_proba(test_x)[:,1]"
   ]
  },
  {
   "cell_type": "code",
   "execution_count": 48,
   "metadata": {
    "ExecuteTime": {
     "end_time": "2020-02-05T22:28:54.062968Z",
     "start_time": "2020-02-05T22:28:53.490453Z"
    }
   },
   "outputs": [],
   "source": [
    "df_submission = pd.DataFrame({'client_id':test_x.index.values,'uplift': preds_pos-preds_neg})\n",
    "df_submission.to_csv('../submit/submission_lgbm.csv',index = False)"
   ]
  },
  {
   "cell_type": "code",
   "execution_count": null,
   "metadata": {},
   "outputs": [],
   "source": []
  },
  {
   "cell_type": "code",
   "execution_count": 68,
   "metadata": {
    "ExecuteTime": {
     "end_time": "2020-01-23T12:33:15.277129Z",
     "start_time": "2020-01-23T12:33:15.263650Z"
    }
   },
   "outputs": [],
   "source": [
    "def uplift_fit_predict(model, X_train, treatment_train, target_train, X_test):\n",
    "    \"\"\"\n",
    "    Реализация простого способа построения uplift-модели.\n",
    "    \n",
    "    Обучаем два бинарных классификатора, которые оценивают вероятность target для клиента:\n",
    "    1. с которым была произведена коммуникация (treatment=1)\n",
    "    2. с которым не было коммуникации (treatment=0)\n",
    "    \n",
    "    В качестве оценки uplift для нового клиента берется разница оценок вероятностей:\n",
    "    Predicted Uplift = P(target|treatment=1) - P(target|treatment=0)\n",
    "    \"\"\"\n",
    "    X_treatment, y_treatment = X_train[treatment_train == 1, :], target_train[treatment_train == 1]\n",
    "    X_control, y_control = X_train[treatment_train == 0, :], target_train[treatment_train == 0]\n",
    "    model_treatment = clone(model).fit(X_treatment, y_treatment)\n",
    "    model_control = clone(model).fit(X_control, y_control)\n",
    "    predict_treatment = model_treatment.predict_proba(X_test)[:, 1]\n",
    "    predict_control = model_control.predict_proba(X_test)[:, 1]\n",
    "    predict_uplift = predict_treatment - predict_control\n",
    "    return predict_uplift\n",
    "\n",
    "\n",
    "def uplift_score(prediction, treatment, target, rate=0.3):\n",
    "    \"\"\"\n",
    "    Подсчет Uplift Score\n",
    "    \"\"\"\n",
    "    order = np.argsort(-prediction)\n",
    "    treatment_n = int((treatment == 1).sum() * rate)\n",
    "    treatment_p = target[order][treatment[order] == 1][:treatment_n].mean()\n",
    "    control_n = int((treatment == 0).sum() * rate)\n",
    "    control_p = target[order][treatment[order] == 0][:control_n].mean()\n",
    "    score = treatment_p - control_p\n",
    "    return score"
   ]
  },
  {
   "cell_type": "code",
   "execution_count": 71,
   "metadata": {
    "ExecuteTime": {
     "end_time": "2020-01-23T12:37:38.521252Z",
     "start_time": "2020-01-23T12:37:38.471167Z"
    }
   },
   "outputs": [],
   "source": [
    "indices_train = df_train.index\n",
    "indices_test = df_test.index\n",
    "indices_learn, indices_valid = train_test_split(df_train.index, test_size=0.3, random_state=2029)"
   ]
  },
  {
   "cell_type": "code",
   "execution_count": 85,
   "metadata": {
    "ExecuteTime": {
     "end_time": "2020-01-23T12:48:06.929804Z",
     "start_time": "2020-01-23T12:48:03.212263Z"
    }
   },
   "outputs": [
    {
     "name": "stdout",
     "output_type": "stream",
     "text": [
      "Validation score: 0.022711101346462592\n"
     ]
    }
   ],
   "source": [
    "valid_uplift = uplift_fit_predict(\n",
    "    model=LogisticRegression(),\n",
    "    X_train=df_features.loc[indices_learn, :].fillna(0).values,\n",
    "    treatment_train=df_train.loc[indices_learn, 'treatment_flg'].values,\n",
    "    target_train=df_train.loc[indices_learn, 'target'].values,\n",
    "    X_test=df_features.loc[indices_valid, :].fillna(0).values,\n",
    ")\n",
    "valid_score = uplift_score(\n",
    "    valid_uplift,\n",
    "    treatment=df_train.loc[indices_valid, 'treatment_flg'].values,\n",
    "    target=df_train.loc[indices_valid, 'target'].values,\n",
    ")\n",
    "print('Validation score:', valid_score)"
   ]
  },
  {
   "cell_type": "code",
   "execution_count": 86,
   "metadata": {
    "ExecuteTime": {
     "end_time": "2020-01-23T12:48:19.662597Z",
     "start_time": "2020-01-23T12:48:13.755870Z"
    }
   },
   "outputs": [],
   "source": [
    "# Подготовка предсказаний для тестовых клиентов\n",
    "\n",
    "test_uplift = uplift_fit_predict(\n",
    "    model=LogisticRegression(),\n",
    "    X_train=df_features.loc[indices_train, :].fillna(0).values,\n",
    "    treatment_train=df_train.loc[indices_train, 'treatment_flg'].values,\n",
    "    target_train=df_train.loc[indices_train, 'target'].values,\n",
    "    X_test=df_features.loc[indices_test, :].fillna(0).values,\n",
    ")\n",
    "\n",
    "df_submission = pd.DataFrame({'uplift': test_uplift}, index=df_test.index)\n",
    "df_submission.to_csv('submission.csv')"
   ]
  },
  {
   "cell_type": "code",
   "execution_count": null,
   "metadata": {},
   "outputs": [],
   "source": []
  },
  {
   "cell_type": "code",
   "execution_count": null,
   "metadata": {},
   "outputs": [],
   "source": []
  },
  {
   "cell_type": "code",
   "execution_count": null,
   "metadata": {},
   "outputs": [],
   "source": []
  },
  {
   "cell_type": "markdown",
   "metadata": {},
   "source": [
    "# Ideads for features"
   ]
  },
  {
   "cell_type": "markdown",
   "metadata": {},
   "source": [
    "<ul>\n",
    "    <li>Mean features from purchases for client</li>\n",
    "    <li>Std from mean </li>\n",
    "    <li>Z-scores</li>\n",
    "    <li>Divergense from median</li>\n",
    "    <li>Min</li>\n",
    "    <li>Max</li>\n",
    "    <li>Total sum</li>\n",
    "    <li>daytime for purchase</li>\n",
    "    <li>most common category</li>\n",
    "    <li>Buy alchocol</li>\n",
    "    <li>most common level_i</li>\n",
    "    <li>cluster for client</li>\n",
    "</ul>"
   ]
  }
 ],
 "metadata": {
  "kernelspec": {
   "display_name": "Python 3",
   "language": "python",
   "name": "python3"
  },
  "language_info": {
   "codemirror_mode": {
    "name": "ipython",
    "version": 3
   },
   "file_extension": ".py",
   "mimetype": "text/x-python",
   "name": "python",
   "nbconvert_exporter": "python",
   "pygments_lexer": "ipython3",
   "version": "3.7.4"
  },
  "toc": {
   "base_numbering": 1,
   "nav_menu": {},
   "number_sections": true,
   "sideBar": true,
   "skip_h1_title": false,
   "title_cell": "Table of Contents",
   "title_sidebar": "Contents",
   "toc_cell": false,
   "toc_position": {},
   "toc_section_display": true,
   "toc_window_display": false
  },
  "varInspector": {
   "cols": {
    "lenName": 16,
    "lenType": 16,
    "lenVar": 40
   },
   "kernels_config": {
    "python": {
     "delete_cmd_postfix": "",
     "delete_cmd_prefix": "del ",
     "library": "var_list.py",
     "varRefreshCmd": "print(var_dic_list())"
    },
    "r": {
     "delete_cmd_postfix": ") ",
     "delete_cmd_prefix": "rm(",
     "library": "var_list.r",
     "varRefreshCmd": "cat(var_dic_list()) "
    }
   },
   "types_to_exclude": [
    "module",
    "function",
    "builtin_function_or_method",
    "instance",
    "_Feature"
   ],
   "window_display": false
  }
 },
 "nbformat": 4,
 "nbformat_minor": 2
}
